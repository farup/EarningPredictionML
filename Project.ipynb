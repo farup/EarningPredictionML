{
 "cells": [
  {
   "cell_type": "markdown",
   "id": "032736af",
   "metadata": {
    "tags": []
   },
   "source": [
    "# Machine Learning Project\n",
    "\n",
    "Format: 2 (Usage of different algorithms for prediction goal)\n",
    "\n",
    "Dataset: [Adult from UC Irvine Machine Learning Repository](https://archive-beta.ics.uci.edu/ml/datasets/adult)\n",
    "\n",
    "Goal:   \n",
    "1. Predict whether a person makes over 50K a year (classification problem).\n",
    "2. Predict the age of a person (regression problem)."
   ]
  },
  {
   "cell_type": "markdown",
   "id": "1392304b",
   "metadata": {
    "jp-MarkdownHeadingCollapsed": true,
    "tags": []
   },
   "source": [
    "### Table of Contents\n",
    "\n",
    "* [1. Classification problem](#classification)\n",
    "    * [1.1. Preprocessing](#Preprocessing)\n",
    "        * [1.1.1. Loading of data](#Loading)\n",
    "        * [1.1.2. Visual checking of the data](#checking)\n",
    "        * [1.1.3. Description and histograms for numerical data](#histogramm)\n",
    "        * [1.1.4. Encoding of Categorical Data](#Categorical_Data)\n",
    "        * [1.1.5. Feature selection](#Feature_selection)\n",
    "        * [1.1.6. Splitting in training and test data](#Splitting)\n",
    "        * [1.1.7. Feature scaling](#Feature_scaling)\n",
    "\n",
    "    * [1.2. Prediction Algorithms](#Prediction_Algorithms)\n",
    "        * [1.2.1. Evaluation of the models](#evaluation)\n",
    "        * [1.2.2. K-Nearest Neighbours](#knn)\n",
    "        * [1.2.3. Decision Tree](#Decision_Tree)\n",
    "        * [1.2.4. Support Vector Machines](#SVM)\n",
    "        * [1.2.5. Logistic Regression](#Logistic_Regression)\n",
    "        * [1.2.6. Naive Bayes](#Naive_Bayes)\n",
    "\n",
    "    * [1.3. Conclusion](#model_summary)\n",
    "      \n",
    "* [2. Regression problem](#regression)\n",
    "    * [2.1. Preprocessing](#preprocessing_reg)\n",
    "        * [2.1.1. Feature selection](#feature_selection_reg)\n",
    "        * [2.1.2. Checking for Linearity](#linearity_check)\n",
    "        * [2.1.3. Splitting in training and test data](#splitting_2)\n",
    "        * [2.1.4. Feature scaling](#Feature_scaling_2)\n",
    "    * [2.2. Prediction Algorithms](#Prediction_Algorithms_2)\n",
    "        * [2.2.1. Multiple Linear Regression](#mul_lin_reg)\n",
    "        * [2.2.2. Ridge Regression](#ridge_reg)\n",
    "        * [2.2.3. K-Nearest Neighbours](#knn_reg)\n",
    "        * [2.2.4. Decision Tree](#Decision_Tree_2)\n",
    "    * [2.3. Conclusion](#model_summary_reg)"
   ]
  },
  {
   "cell_type": "markdown",
   "id": "f75a3032",
   "metadata": {},
   "source": [
    "# 1. Classification problem <a class=\"anchor\" id=\"classification\"></a>\n",
    "## 1.1. Preprocessing <a class=\"anchor\" id=\"Preprocessing\"></a>\n",
    "### 1.1.1. Loading of data <a class=\"anchor\" id=\"Loading\"></a>\n",
    "\n",
    "The data will be read from .csv files to a pandas DataFrame. \n",
    "The given splitting into training and test data is revoked, so different kinds of splitting techniques can be evaluated later. The column headers are added manually.\n"
   ]
  },
  {
   "cell_type": "code",
   "execution_count": 1,
   "id": "12a8c81c",
   "metadata": {
    "scrolled": true
   },
   "outputs": [
    {
     "name": "stdout",
     "output_type": "stream",
     "text": [
      "Number of columns: 15\n",
      "Number of rows: 48840\n"
     ]
    },
    {
     "data": {
      "text/html": [
       "<div>\n",
       "<style scoped>\n",
       "    .dataframe tbody tr th:only-of-type {\n",
       "        vertical-align: middle;\n",
       "    }\n",
       "\n",
       "    .dataframe tbody tr th {\n",
       "        vertical-align: top;\n",
       "    }\n",
       "\n",
       "    .dataframe thead th {\n",
       "        text-align: right;\n",
       "    }\n",
       "</style>\n",
       "<table border=\"1\" class=\"dataframe\">\n",
       "  <thead>\n",
       "    <tr style=\"text-align: right;\">\n",
       "      <th></th>\n",
       "      <th>age</th>\n",
       "      <th>workclass</th>\n",
       "      <th>fnlwgt</th>\n",
       "      <th>education</th>\n",
       "      <th>education-num</th>\n",
       "      <th>marital-status</th>\n",
       "      <th>occupation</th>\n",
       "      <th>relationship</th>\n",
       "      <th>race</th>\n",
       "      <th>sex</th>\n",
       "      <th>capital-gain</th>\n",
       "      <th>capital-loss</th>\n",
       "      <th>hours-per-week</th>\n",
       "      <th>native-country</th>\n",
       "      <th>class</th>\n",
       "    </tr>\n",
       "  </thead>\n",
       "  <tbody>\n",
       "    <tr>\n",
       "      <th>0</th>\n",
       "      <td>50</td>\n",
       "      <td>Self-emp-not-inc</td>\n",
       "      <td>83311</td>\n",
       "      <td>Bachelors</td>\n",
       "      <td>13</td>\n",
       "      <td>Married-civ-spouse</td>\n",
       "      <td>Exec-managerial</td>\n",
       "      <td>Husband</td>\n",
       "      <td>White</td>\n",
       "      <td>Male</td>\n",
       "      <td>0</td>\n",
       "      <td>0</td>\n",
       "      <td>13</td>\n",
       "      <td>United-States</td>\n",
       "      <td>&lt;=50K</td>\n",
       "    </tr>\n",
       "    <tr>\n",
       "      <th>1</th>\n",
       "      <td>38</td>\n",
       "      <td>Private</td>\n",
       "      <td>215646</td>\n",
       "      <td>HS-grad</td>\n",
       "      <td>9</td>\n",
       "      <td>Divorced</td>\n",
       "      <td>Handlers-cleaners</td>\n",
       "      <td>Not-in-family</td>\n",
       "      <td>White</td>\n",
       "      <td>Male</td>\n",
       "      <td>0</td>\n",
       "      <td>0</td>\n",
       "      <td>40</td>\n",
       "      <td>United-States</td>\n",
       "      <td>&lt;=50K</td>\n",
       "    </tr>\n",
       "    <tr>\n",
       "      <th>2</th>\n",
       "      <td>53</td>\n",
       "      <td>Private</td>\n",
       "      <td>234721</td>\n",
       "      <td>11th</td>\n",
       "      <td>7</td>\n",
       "      <td>Married-civ-spouse</td>\n",
       "      <td>Handlers-cleaners</td>\n",
       "      <td>Husband</td>\n",
       "      <td>Black</td>\n",
       "      <td>Male</td>\n",
       "      <td>0</td>\n",
       "      <td>0</td>\n",
       "      <td>40</td>\n",
       "      <td>United-States</td>\n",
       "      <td>&lt;=50K</td>\n",
       "    </tr>\n",
       "    <tr>\n",
       "      <th>3</th>\n",
       "      <td>28</td>\n",
       "      <td>Private</td>\n",
       "      <td>338409</td>\n",
       "      <td>Bachelors</td>\n",
       "      <td>13</td>\n",
       "      <td>Married-civ-spouse</td>\n",
       "      <td>Prof-specialty</td>\n",
       "      <td>Wife</td>\n",
       "      <td>Black</td>\n",
       "      <td>Female</td>\n",
       "      <td>0</td>\n",
       "      <td>0</td>\n",
       "      <td>40</td>\n",
       "      <td>Cuba</td>\n",
       "      <td>&lt;=50K</td>\n",
       "    </tr>\n",
       "    <tr>\n",
       "      <th>4</th>\n",
       "      <td>37</td>\n",
       "      <td>Private</td>\n",
       "      <td>284582</td>\n",
       "      <td>Masters</td>\n",
       "      <td>14</td>\n",
       "      <td>Married-civ-spouse</td>\n",
       "      <td>Exec-managerial</td>\n",
       "      <td>Wife</td>\n",
       "      <td>White</td>\n",
       "      <td>Female</td>\n",
       "      <td>0</td>\n",
       "      <td>0</td>\n",
       "      <td>40</td>\n",
       "      <td>United-States</td>\n",
       "      <td>&lt;=50K</td>\n",
       "    </tr>\n",
       "  </tbody>\n",
       "</table>\n",
       "</div>"
      ],
      "text/plain": [
       "   age          workclass  fnlwgt   education  education-num  \\\n",
       "0   50   Self-emp-not-inc   83311   Bachelors             13   \n",
       "1   38            Private  215646     HS-grad              9   \n",
       "2   53            Private  234721        11th              7   \n",
       "3   28            Private  338409   Bachelors             13   \n",
       "4   37            Private  284582     Masters             14   \n",
       "\n",
       "        marital-status          occupation    relationship    race      sex  \\\n",
       "0   Married-civ-spouse     Exec-managerial         Husband   White     Male   \n",
       "1             Divorced   Handlers-cleaners   Not-in-family   White     Male   \n",
       "2   Married-civ-spouse   Handlers-cleaners         Husband   Black     Male   \n",
       "3   Married-civ-spouse      Prof-specialty            Wife   Black   Female   \n",
       "4   Married-civ-spouse     Exec-managerial            Wife   White   Female   \n",
       "\n",
       "   capital-gain  capital-loss  hours-per-week  native-country   class  \n",
       "0             0             0              13   United-States   <=50K  \n",
       "1             0             0              40   United-States   <=50K  \n",
       "2             0             0              40   United-States   <=50K  \n",
       "3             0             0              40            Cuba   <=50K  \n",
       "4             0             0              40   United-States   <=50K  "
      ]
     },
     "execution_count": 1,
     "metadata": {},
     "output_type": "execute_result"
    }
   ],
   "source": [
    "import pandas as pd\n",
    "import numpy as np\n",
    "import matplotlib.pyplot as plt\n",
    "\n",
    "column_titles = [\"age\", \"workclass\", \"fnlwgt\", \"education\", \"education-num\", \"marital-status\", \"occupation\",\n",
    "\"relationship\", \"race\", \"sex\", \"capital-gain\", \"capital-loss\", \"hours-per-week\", \"native-country\", \"class\"]\n",
    "\n",
    "train = pd.read_csv('Adult_Data.csv')\n",
    "train.columns = column_titles\n",
    "\n",
    "test = pd.read_csv('Adult_Test.csv')\n",
    "test.columns = column_titles\n",
    "\n",
    "data = pd.concat([train, test], ignore_index=True)\n",
    "\n",
    "print(\"Number of columns: \" + str(data.shape[1]) + \"\\nNumber of rows: \" + str(data.shape[0]))\n",
    "\n",
    "data.head()"
   ]
  },
  {
   "cell_type": "markdown",
   "id": "25dff16c",
   "metadata": {},
   "source": [
    "The dataset contains data about the US's people and economy extracted from the 1994 Census database. It has 48.840\n",
    "instances and 15 attributes (continuous and categorical) including age, workclass, fnlwgt (final weight), education, education-num, marital-status, occupation, relationship, race, sex, capital-gain, capital-loss, hours-per-week and native-country.  \n",
    "With these features, we will try to predict the last column 'class' as a classification problem."
   ]
  },
  {
   "cell_type": "markdown",
   "id": "b12fb6d8",
   "metadata": {},
   "source": [
    "### 1.1.2. Visual checking of the data <a class=\"anchor\" id=\"checking\"></a>\n",
    "Checking of all unique values of all the attributes:"
   ]
  },
  {
   "cell_type": "code",
   "execution_count": 2,
   "id": "6b257f2c",
   "metadata": {
    "tags": []
   },
   "outputs": [
    {
     "name": "stdout",
     "output_type": "stream",
     "text": [
      "\n",
      "Unique values in column: age (n = 74)\n",
      "[17, 18, 19, ... , 88, 89, 90]\n",
      "\n",
      "Unique values in column: workclass (n = 9)\n",
      "[ ?,  Federal-gov,  Local-gov, ... ,  Self-emp-not-inc,  State-gov,  Without-pay]\n",
      "\n",
      "Unique values in column: fnlwgt (n = 28521)\n",
      "[12285, 13492, 13769, ... , 1455435, 1484705, 1490400]\n",
      "\n",
      "Unique values in column: education (n = 16)\n",
      "[ 10th,  11th,  12th, ... ,  Preschool,  Prof-school,  Some-college]\n",
      "\n",
      "Unique values in column: education-num (n = 16)\n",
      "[1, 2, 3, ... , 14, 15, 16]\n",
      "\n",
      "Unique values in column: marital-status (n = 7)\n",
      "[ Divorced,  Married-AF-spouse,  Married-civ-spouse, ... ,  Never-married,  Separated,  Widowed]\n",
      "\n",
      "Unique values in column: occupation (n = 15)\n",
      "[ ?,  Adm-clerical,  Armed-Forces, ... ,  Sales,  Tech-support,  Transport-moving]\n",
      "\n",
      "Unique values in column: relationship (n = 6)\n",
      "[' Husband', ' Not-in-family', ' Other-relative', ' Own-child', ' Unmarried', ' Wife']\n",
      "\n",
      "Unique values in column: race (n = 5)\n",
      "[' Amer-Indian-Eskimo', ' Asian-Pac-Islander', ' Black', ' Other', ' White']\n",
      "\n",
      "Unique values in column: sex (n = 2)\n",
      "[' Female', ' Male']\n",
      "\n",
      "Unique values in column: capital-gain (n = 123)\n",
      "[0, 114, 401, ... , 34095, 41310, 99999]\n",
      "\n",
      "Unique values in column: capital-loss (n = 99)\n",
      "[0, 155, 213, ... , 3770, 3900, 4356]\n",
      "\n",
      "Unique values in column: hours-per-week (n = 96)\n",
      "[1, 2, 3, ... , 97, 98, 99]\n",
      "\n",
      "Unique values in column: native-country (n = 42)\n",
      "[ ?,  Cambodia,  Canada, ... ,  United-States,  Vietnam,  Yugoslavia]\n",
      "\n",
      "Unique values in column: class (n = 4)\n",
      "[' <=50K', ' <=50K.', ' >50K', ' >50K.']\n"
     ]
    }
   ],
   "source": [
    "for column in data:\n",
    "    sorted_unique_vals = list(data[column].unique())\n",
    "    sorted_unique_vals.sort()\n",
    "    print(\"\\nUnique values in column: \" + column + \" (n = \" + str(len(sorted_unique_vals)) + \")\")\n",
    "    if len(sorted_unique_vals) > 6:\n",
    "        print(\"[\" + str(sorted_unique_vals[0]) + \", \" + str(sorted_unique_vals[1]) + \", \" + str(sorted_unique_vals[2]) + \", ... , \"\n",
    "              + str(sorted_unique_vals[-3]) + \", \" + str(sorted_unique_vals[-2]) + \", \" + str(sorted_unique_vals[-1]) + \"]\")\n",
    "    else:\n",
    "        print(sorted_unique_vals)"
   ]
  },
  {
   "cell_type": "markdown",
   "id": "2ce8e381",
   "metadata": {},
   "source": [
    "* some attributes have missing values marked with ' ?'  (workclass, occupation, native-country)\n",
    "* education-num is the numerical representation for the education\n",
    "* all strings include a blank at the beginning\n",
    "* the class attribute (target) is formatted in two different ways for the same values\n",
    "* since the data is about US citizens, explore the distribution of the attribute 'native-country' further"
   ]
  },
  {
   "cell_type": "markdown",
   "id": "eaad8967",
   "metadata": {},
   "source": [
    "#### Missing values <a class=\"anchor\" id=\"Missing_values\"></a>\n",
    "Rows with missing values will be dropped, since the number of rows with missing values is small compared to the size of the dataset:"
   ]
  },
  {
   "cell_type": "code",
   "execution_count": 3,
   "id": "c048ddf7",
   "metadata": {},
   "outputs": [
    {
     "name": "stdout",
     "output_type": "stream",
     "text": [
      "Number of columns: 15\n",
      "Number of rows: 45220\n"
     ]
    }
   ],
   "source": [
    "data = data.replace(' ?', None).dropna()\n",
    "\n",
    "print(\"Number of columns: \" + str(data.shape[1]) + \"\\nNumber of rows: \" + str(data.shape[0]))"
   ]
  },
  {
   "cell_type": "markdown",
   "id": "cd5f9e0a",
   "metadata": {},
   "source": [
    "#### Education <a class=\"anchor\" id=\"Education\"></a>\n",
    "The education column can be dropped, since we only need the numerical column education-num for the prediction later."
   ]
  },
  {
   "cell_type": "code",
   "execution_count": 4,
   "id": "96474693",
   "metadata": {},
   "outputs": [],
   "source": [
    "data = data.drop(columns=['education'])"
   ]
  },
  {
   "cell_type": "markdown",
   "id": "0df5f5b2",
   "metadata": {},
   "source": [
    "#### Blanks in strings <a class=\"anchor\" id=\"Blanks\"></a>\n",
    "Removing of blanks in the beginning or end of strings:"
   ]
  },
  {
   "cell_type": "code",
   "execution_count": 5,
   "id": "cd478e1a",
   "metadata": {},
   "outputs": [],
   "source": [
    "data_obj = data.select_dtypes(['object'])\n",
    "data[data_obj.columns] = data_obj.apply(lambda x: x.str.strip())"
   ]
  },
  {
   "cell_type": "markdown",
   "id": "19f9be11",
   "metadata": {},
   "source": [
    "#### Target variable <a class=\"anchor\" id=\"Target\"></a>\n",
    "Unify target variables values and show histogram:"
   ]
  },
  {
   "cell_type": "code",
   "execution_count": 6,
   "id": "b90bbf79",
   "metadata": {},
   "outputs": [
    {
     "data": {
      "image/png": "[encoded data removed]",
      "text/plain": [
       "<Figure size 432x288 with 1 Axes>"
      ]
     },
     "metadata": {
      "needs_background": "light"
     },
     "output_type": "display_data"
    },
    {
     "name": "stdout",
     "output_type": "stream",
     "text": [
      "<=50K: 0.7521450685537373\n",
      ">50K: 0.24785493144626272\n"
     ]
    }
   ],
   "source": [
    "data['class'] = data['class'].replace(['<=50K.','>50K.'],['<=50K','>50K'])\n",
    "\n",
    "n, bins, patches  = plt.hist(data['class'], bins = 2, rwidth = 0.9)\n",
    "plt.title('class')\n",
    "\n",
    "\n",
    "plt.show()\n",
    "\n",
    "print(\"<=50K: \" + str(n[0] / (n[0] + n[1])))\n",
    "print(\">50K: \" + str(n[1] / (n[0] + n[1])))"
   ]
  },
  {
   "cell_type": "markdown",
   "id": "3a98d918",
   "metadata": {},
   "source": [
    "Around 75% of the data has one value of the target variable and around 25% has the second value of the target variable, so it's unbalanced. This can disturb the evaluation of applied models to this dataset. The problem will be addressed later."
   ]
  },
  {
   "cell_type": "markdown",
   "id": "dc8cded4",
   "metadata": {},
   "source": [
    "#### Attribute: native-country <a class=\"anchor\" id=\"native-country\"></a>\n",
    "Explore the distribution of the unique values for the attribute 'native-country':"
   ]
  },
  {
   "cell_type": "code",
   "execution_count": 7,
   "id": "5abc4794",
   "metadata": {},
   "outputs": [
    {
     "data": {
      "text/plain": [
       "United-States    41290\n",
       "Mexico             903\n",
       "Philippines        283\n",
       "Germany            193\n",
       "Puerto-Rico        175\n",
       "Name: native-country, dtype: int64"
      ]
     },
     "execution_count": 7,
     "metadata": {},
     "output_type": "execute_result"
    }
   ],
   "source": [
    "data['native-country'].value_counts().head()"
   ]
  },
  {
   "cell_type": "markdown",
   "id": "e689642e",
   "metadata": {},
   "source": [
    "Since most of the values for the native country is 'United-States', the rest can be grouped to 'Other'. This will reduce the number of different unique values for the categorical attribute and will simplify all coming steps."
   ]
  },
  {
   "cell_type": "code",
   "execution_count": 8,
   "id": "ecbe40cd",
   "metadata": {},
   "outputs": [],
   "source": [
    "data.loc[data['native-country'] != 'United-States', 'native-country'] = 'Other'"
   ]
  },
  {
   "cell_type": "markdown",
   "id": "019f75ad",
   "metadata": {},
   "source": [
    "### 1.1.3. Description and histograms for numerical data <a class=\"anchor\" id=\"histogramm\"></a>"
   ]
  },
  {
   "cell_type": "code",
   "execution_count": 9,
   "id": "62875a55",
   "metadata": {},
   "outputs": [
    {
     "data": {
      "text/html": [
       "<div>\n",
       "<style scoped>\n",
       "    .dataframe tbody tr th:only-of-type {\n",
       "        vertical-align: middle;\n",
       "    }\n",
       "\n",
       "    .dataframe tbody tr th {\n",
       "        vertical-align: top;\n",
       "    }\n",
       "\n",
       "    .dataframe thead th {\n",
       "        text-align: right;\n",
       "    }\n",
       "</style>\n",
       "<table border=\"1\" class=\"dataframe\">\n",
       "  <thead>\n",
       "    <tr style=\"text-align: right;\">\n",
       "      <th></th>\n",
       "      <th>age</th>\n",
       "      <th>fnlwgt</th>\n",
       "      <th>education-num</th>\n",
       "      <th>capital-gain</th>\n",
       "      <th>capital-loss</th>\n",
       "      <th>hours-per-week</th>\n",
       "    </tr>\n",
       "  </thead>\n",
       "  <tbody>\n",
       "    <tr>\n",
       "      <th>count</th>\n",
       "      <td>45220.000000</td>\n",
       "      <td>4.522000e+04</td>\n",
       "      <td>45220.000000</td>\n",
       "      <td>45220.000000</td>\n",
       "      <td>45220.000000</td>\n",
       "      <td>45220.000000</td>\n",
       "    </tr>\n",
       "    <tr>\n",
       "      <th>mean</th>\n",
       "      <td>38.548231</td>\n",
       "      <td>1.897364e+05</td>\n",
       "      <td>10.118465</td>\n",
       "      <td>1101.430982</td>\n",
       "      <td>88.599337</td>\n",
       "      <td>40.938058</td>\n",
       "    </tr>\n",
       "    <tr>\n",
       "      <th>std</th>\n",
       "      <td>13.218009</td>\n",
       "      <td>1.056401e+05</td>\n",
       "      <td>2.552860</td>\n",
       "      <td>7506.592602</td>\n",
       "      <td>404.964619</td>\n",
       "      <td>12.007772</td>\n",
       "    </tr>\n",
       "    <tr>\n",
       "      <th>min</th>\n",
       "      <td>17.000000</td>\n",
       "      <td>1.349200e+04</td>\n",
       "      <td>1.000000</td>\n",
       "      <td>0.000000</td>\n",
       "      <td>0.000000</td>\n",
       "      <td>1.000000</td>\n",
       "    </tr>\n",
       "    <tr>\n",
       "      <th>25%</th>\n",
       "      <td>28.000000</td>\n",
       "      <td>1.173908e+05</td>\n",
       "      <td>9.000000</td>\n",
       "      <td>0.000000</td>\n",
       "      <td>0.000000</td>\n",
       "      <td>40.000000</td>\n",
       "    </tr>\n",
       "    <tr>\n",
       "      <th>50%</th>\n",
       "      <td>37.000000</td>\n",
       "      <td>1.783160e+05</td>\n",
       "      <td>10.000000</td>\n",
       "      <td>0.000000</td>\n",
       "      <td>0.000000</td>\n",
       "      <td>40.000000</td>\n",
       "    </tr>\n",
       "    <tr>\n",
       "      <th>75%</th>\n",
       "      <td>47.000000</td>\n",
       "      <td>2.379318e+05</td>\n",
       "      <td>13.000000</td>\n",
       "      <td>0.000000</td>\n",
       "      <td>0.000000</td>\n",
       "      <td>45.000000</td>\n",
       "    </tr>\n",
       "    <tr>\n",
       "      <th>max</th>\n",
       "      <td>90.000000</td>\n",
       "      <td>1.490400e+06</td>\n",
       "      <td>16.000000</td>\n",
       "      <td>99999.000000</td>\n",
       "      <td>4356.000000</td>\n",
       "      <td>99.000000</td>\n",
       "    </tr>\n",
       "  </tbody>\n",
       "</table>\n",
       "</div>"
      ],
      "text/plain": [
       "                age        fnlwgt  education-num  capital-gain  capital-loss  \\\n",
       "count  45220.000000  4.522000e+04   45220.000000  45220.000000  45220.000000   \n",
       "mean      38.548231  1.897364e+05      10.118465   1101.430982     88.599337   \n",
       "std       13.218009  1.056401e+05       2.552860   7506.592602    404.964619   \n",
       "min       17.000000  1.349200e+04       1.000000      0.000000      0.000000   \n",
       "25%       28.000000  1.173908e+05       9.000000      0.000000      0.000000   \n",
       "50%       37.000000  1.783160e+05      10.000000      0.000000      0.000000   \n",
       "75%       47.000000  2.379318e+05      13.000000      0.000000      0.000000   \n",
       "max       90.000000  1.490400e+06      16.000000  99999.000000   4356.000000   \n",
       "\n",
       "       hours-per-week  \n",
       "count    45220.000000  \n",
       "mean        40.938058  \n",
       "std         12.007772  \n",
       "min          1.000000  \n",
       "25%         40.000000  \n",
       "50%         40.000000  \n",
       "75%         45.000000  \n",
       "max         99.000000  "
      ]
     },
     "execution_count": 9,
     "metadata": {},
     "output_type": "execute_result"
    }
   ],
   "source": [
    "numerics = ['int16', 'int32', 'int64', 'float16', 'float32', 'float64']\n",
    "data_num = data.select_dtypes(include=numerics)\n",
    "data_num.describe()"
   ]
  },
  {
   "cell_type": "code",
   "execution_count": 10,
   "id": "3ca2c442",
   "metadata": {},
   "outputs": [
    {
     "data": {
      "image/png": "[encoded data removed]",
      "text/plain": [
       "<Figure size 432x288 with 1 Axes>"
      ]
     },
     "metadata": {
      "needs_background": "light"
     },
     "output_type": "display_data"
    },
    {
     "data": {
      "image/png": "[encoded data removed]",
      "text/plain": [
       "<Figure size 432x288 with 1 Axes>"
      ]
     },
     "metadata": {
      "needs_background": "light"
     },
     "output_type": "display_data"
    },
    {
     "data": {
      "image/png": "[encoded data removed]",
      "text/plain": [
       "<Figure size 432x288 with 1 Axes>"
      ]
     },
     "metadata": {
      "needs_background": "light"
     },
     "output_type": "display_data"
    },
    {
     "data": {
      "image/png": "[encoded data removed]",
      "text/plain": [
       "<Figure size 432x288 with 1 Axes>"
      ]
     },
     "metadata": {
      "needs_background": "light"
     },
     "output_type": "display_data"
    },
    {
     "data": {
      "image/png": "[encoded data removed]",
      "text/plain": [
       "<Figure size 432x288 with 1 Axes>"
      ]
     },
     "metadata": {
      "needs_background": "light"
     },
     "output_type": "display_data"
    },
    {
     "data": {
      "image/png": "[encoded data removed]",
      "text/plain": [
       "<Figure size 432x288 with 1 Axes>"
      ]
     },
     "metadata": {
      "needs_background": "light"
     },
     "output_type": "display_data"
    }
   ],
   "source": [
    "for column in data_num:\n",
    "    plt.hist(data_num[column], rwidth = 0.9)\n",
    "    plt.title(column)\n",
    "    plt.show()"
   ]
  },
  {
   "cell_type": "markdown",
   "id": "c9db2371",
   "metadata": {},
   "source": [
    "The range of the values of the numerical features is very different, so scaling of the data will be necessary later."
   ]
  },
  {
   "cell_type": "markdown",
   "id": "b14fa8eb",
   "metadata": {},
   "source": [
    "### 1.1.4. Encoding of Categorical Data <a class=\"anchor\" id=\"Categorical_Data\"></a>\n",
    "For the Machine Learning algorithms, the categorical data in string format needs to be changed to numerical data type. Since the data is nominal, the data will be transformed using the One Hot Encoding to avoid adding bias to the data by transforming it to ordinal data using simple labeling numbers. For this, we use the Pandas function [get_dummies](https://pandas.pydata.org/docs/reference/api/pandas.get_dummies.html)."
   ]
  },
  {
   "cell_type": "code",
   "execution_count": 11,
   "id": "93e5b1e7",
   "metadata": {
    "scrolled": true
   },
   "outputs": [
    {
     "data": {
      "text/html": [
       "<div>\n",
       "<style scoped>\n",
       "    .dataframe tbody tr th:only-of-type {\n",
       "        vertical-align: middle;\n",
       "    }\n",
       "\n",
       "    .dataframe tbody tr th {\n",
       "        vertical-align: top;\n",
       "    }\n",
       "\n",
       "    .dataframe thead th {\n",
       "        text-align: right;\n",
       "    }\n",
       "</style>\n",
       "<table border=\"1\" class=\"dataframe\">\n",
       "  <thead>\n",
       "    <tr style=\"text-align: right;\">\n",
       "      <th></th>\n",
       "      <th>age</th>\n",
       "      <th>fnlwgt</th>\n",
       "      <th>education-num</th>\n",
       "      <th>capital-gain</th>\n",
       "      <th>capital-loss</th>\n",
       "      <th>hours-per-week</th>\n",
       "      <th>workclass_Federal-gov</th>\n",
       "      <th>workclass_Local-gov</th>\n",
       "      <th>workclass_Private</th>\n",
       "      <th>workclass_Self-emp-inc</th>\n",
       "      <th>...</th>\n",
       "      <th>race_Asian-Pac-Islander</th>\n",
       "      <th>race_Black</th>\n",
       "      <th>race_Other</th>\n",
       "      <th>race_White</th>\n",
       "      <th>sex_Female</th>\n",
       "      <th>sex_Male</th>\n",
       "      <th>native-country_Other</th>\n",
       "      <th>native-country_United-States</th>\n",
       "      <th>class_&lt;=50K</th>\n",
       "      <th>class_&gt;50K</th>\n",
       "    </tr>\n",
       "  </thead>\n",
       "  <tbody>\n",
       "    <tr>\n",
       "      <th>0</th>\n",
       "      <td>50</td>\n",
       "      <td>83311</td>\n",
       "      <td>13</td>\n",
       "      <td>0</td>\n",
       "      <td>0</td>\n",
       "      <td>13</td>\n",
       "      <td>0</td>\n",
       "      <td>0</td>\n",
       "      <td>0</td>\n",
       "      <td>0</td>\n",
       "      <td>...</td>\n",
       "      <td>0</td>\n",
       "      <td>0</td>\n",
       "      <td>0</td>\n",
       "      <td>1</td>\n",
       "      <td>0</td>\n",
       "      <td>1</td>\n",
       "      <td>0</td>\n",
       "      <td>1</td>\n",
       "      <td>1</td>\n",
       "      <td>0</td>\n",
       "    </tr>\n",
       "    <tr>\n",
       "      <th>1</th>\n",
       "      <td>38</td>\n",
       "      <td>215646</td>\n",
       "      <td>9</td>\n",
       "      <td>0</td>\n",
       "      <td>0</td>\n",
       "      <td>40</td>\n",
       "      <td>0</td>\n",
       "      <td>0</td>\n",
       "      <td>1</td>\n",
       "      <td>0</td>\n",
       "      <td>...</td>\n",
       "      <td>0</td>\n",
       "      <td>0</td>\n",
       "      <td>0</td>\n",
       "      <td>1</td>\n",
       "      <td>0</td>\n",
       "      <td>1</td>\n",
       "      <td>0</td>\n",
       "      <td>1</td>\n",
       "      <td>1</td>\n",
       "      <td>0</td>\n",
       "    </tr>\n",
       "    <tr>\n",
       "      <th>2</th>\n",
       "      <td>53</td>\n",
       "      <td>234721</td>\n",
       "      <td>7</td>\n",
       "      <td>0</td>\n",
       "      <td>0</td>\n",
       "      <td>40</td>\n",
       "      <td>0</td>\n",
       "      <td>0</td>\n",
       "      <td>1</td>\n",
       "      <td>0</td>\n",
       "      <td>...</td>\n",
       "      <td>0</td>\n",
       "      <td>1</td>\n",
       "      <td>0</td>\n",
       "      <td>0</td>\n",
       "      <td>0</td>\n",
       "      <td>1</td>\n",
       "      <td>0</td>\n",
       "      <td>1</td>\n",
       "      <td>1</td>\n",
       "      <td>0</td>\n",
       "    </tr>\n",
       "    <tr>\n",
       "      <th>3</th>\n",
       "      <td>28</td>\n",
       "      <td>338409</td>\n",
       "      <td>13</td>\n",
       "      <td>0</td>\n",
       "      <td>0</td>\n",
       "      <td>40</td>\n",
       "      <td>0</td>\n",
       "      <td>0</td>\n",
       "      <td>1</td>\n",
       "      <td>0</td>\n",
       "      <td>...</td>\n",
       "      <td>0</td>\n",
       "      <td>1</td>\n",
       "      <td>0</td>\n",
       "      <td>0</td>\n",
       "      <td>1</td>\n",
       "      <td>0</td>\n",
       "      <td>1</td>\n",
       "      <td>0</td>\n",
       "      <td>1</td>\n",
       "      <td>0</td>\n",
       "    </tr>\n",
       "    <tr>\n",
       "      <th>4</th>\n",
       "      <td>37</td>\n",
       "      <td>284582</td>\n",
       "      <td>14</td>\n",
       "      <td>0</td>\n",
       "      <td>0</td>\n",
       "      <td>40</td>\n",
       "      <td>0</td>\n",
       "      <td>0</td>\n",
       "      <td>1</td>\n",
       "      <td>0</td>\n",
       "      <td>...</td>\n",
       "      <td>0</td>\n",
       "      <td>0</td>\n",
       "      <td>0</td>\n",
       "      <td>1</td>\n",
       "      <td>1</td>\n",
       "      <td>0</td>\n",
       "      <td>0</td>\n",
       "      <td>1</td>\n",
       "      <td>1</td>\n",
       "      <td>0</td>\n",
       "    </tr>\n",
       "  </tbody>\n",
       "</table>\n",
       "<p>5 rows × 51 columns</p>\n",
       "</div>"
      ],
      "text/plain": [
       "   age  fnlwgt  education-num  capital-gain  capital-loss  hours-per-week  \\\n",
       "0   50   83311             13             0             0              13   \n",
       "1   38  215646              9             0             0              40   \n",
       "2   53  234721              7             0             0              40   \n",
       "3   28  338409             13             0             0              40   \n",
       "4   37  284582             14             0             0              40   \n",
       "\n",
       "   workclass_Federal-gov  workclass_Local-gov  workclass_Private  \\\n",
       "0                      0                    0                  0   \n",
       "1                      0                    0                  1   \n",
       "2                      0                    0                  1   \n",
       "3                      0                    0                  1   \n",
       "4                      0                    0                  1   \n",
       "\n",
       "   workclass_Self-emp-inc  ...  race_Asian-Pac-Islander  race_Black  \\\n",
       "0                       0  ...                        0           0   \n",
       "1                       0  ...                        0           0   \n",
       "2                       0  ...                        0           1   \n",
       "3                       0  ...                        0           1   \n",
       "4                       0  ...                        0           0   \n",
       "\n",
       "   race_Other  race_White  sex_Female  sex_Male  native-country_Other  \\\n",
       "0           0           1           0         1                     0   \n",
       "1           0           1           0         1                     0   \n",
       "2           0           0           0         1                     0   \n",
       "3           0           0           1         0                     1   \n",
       "4           0           1           1         0                     0   \n",
       "\n",
       "   native-country_United-States  class_<=50K  class_>50K  \n",
       "0                             1            1           0  \n",
       "1                             1            1           0  \n",
       "2                             1            1           0  \n",
       "3                             0            1           0  \n",
       "4                             1            1           0  \n",
       "\n",
       "[5 rows x 51 columns]"
      ]
     },
     "execution_count": 11,
     "metadata": {},
     "output_type": "execute_result"
    }
   ],
   "source": [
    "one_hot_encoded_data = pd.get_dummies(data, columns = data_obj.columns)\n",
    "one_hot_encoded_data.head()"
   ]
  },
  {
   "cell_type": "markdown",
   "id": "776067dc",
   "metadata": {},
   "source": [
    "Drop second column of binary target variable (class):"
   ]
  },
  {
   "cell_type": "code",
   "execution_count": 12,
   "id": "09211f24",
   "metadata": {},
   "outputs": [],
   "source": [
    "data = one_hot_encoded_data.drop(columns=['class_>50K'])"
   ]
  },
  {
   "cell_type": "markdown",
   "id": "60f32a44",
   "metadata": {},
   "source": [
    "-> 1 in column 'class_<=50K' stands for '<=50K', 0 for '>50K'"
   ]
  },
  {
   "cell_type": "markdown",
   "id": "9fba60f6",
   "metadata": {},
   "source": [
    "### 1.1.5. Feature selection <a class=\"anchor\" id=\"Feature_selection\"></a>\n",
    "For the feature selection, we have a look at a correlation matrix of the numerical attributes with a heatmap:"
   ]
  },
  {
   "cell_type": "code",
   "execution_count": 13,
   "id": "dfab84c8",
   "metadata": {},
   "outputs": [
    {
     "data": {
      "image/png": "[encoded data removed]",
      "text/plain": [
       "<Figure size 720x720 with 2 Axes>"
      ]
     },
     "metadata": {
      "needs_background": "light"
     },
     "output_type": "display_data"
    }
   ],
   "source": [
    "import seaborn as sns\n",
    "\n",
    "# get correlation of features in the dataset\n",
    "corrmat = data[list(data_num.columns) + ['class_<=50K']].corr()\n",
    "top_corr_features = corrmat.index\n",
    "plt.figure(figsize=(10, 10))\n",
    "#plot heat map\n",
    "g=sns.heatmap(data[top_corr_features].corr(),annot=True,cmap=\"RdYlGn\")"
   ]
  },
  {
   "cell_type": "markdown",
   "id": "8af87714",
   "metadata": {},
   "source": [
    "The correlation value of the variable 'fnlwgt' and the target variable 'class_<=50K' is close to 0, so the variables are not correlated. We drop the feature 'fnlwgt'. For the rest of the variables the correlations in between them is very low and the correlations to the target variable is quite similar for all of them, so we leave all features for the models."
   ]
  },
  {
   "cell_type": "code",
   "execution_count": 14,
   "id": "ac64982c",
   "metadata": {},
   "outputs": [
    {
     "data": {
      "text/html": [
       "<div>\n",
       "<style scoped>\n",
       "    .dataframe tbody tr th:only-of-type {\n",
       "        vertical-align: middle;\n",
       "    }\n",
       "\n",
       "    .dataframe tbody tr th {\n",
       "        vertical-align: top;\n",
       "    }\n",
       "\n",
       "    .dataframe thead th {\n",
       "        text-align: right;\n",
       "    }\n",
       "</style>\n",
       "<table border=\"1\" class=\"dataframe\">\n",
       "  <thead>\n",
       "    <tr style=\"text-align: right;\">\n",
       "      <th></th>\n",
       "      <th>age</th>\n",
       "      <th>education-num</th>\n",
       "      <th>capital-gain</th>\n",
       "      <th>capital-loss</th>\n",
       "      <th>hours-per-week</th>\n",
       "      <th>workclass_Federal-gov</th>\n",
       "      <th>workclass_Local-gov</th>\n",
       "      <th>workclass_Private</th>\n",
       "      <th>workclass_Self-emp-inc</th>\n",
       "      <th>workclass_Self-emp-not-inc</th>\n",
       "      <th>...</th>\n",
       "      <th>race_Amer-Indian-Eskimo</th>\n",
       "      <th>race_Asian-Pac-Islander</th>\n",
       "      <th>race_Black</th>\n",
       "      <th>race_Other</th>\n",
       "      <th>race_White</th>\n",
       "      <th>sex_Female</th>\n",
       "      <th>sex_Male</th>\n",
       "      <th>native-country_Other</th>\n",
       "      <th>native-country_United-States</th>\n",
       "      <th>class_&lt;=50K</th>\n",
       "    </tr>\n",
       "  </thead>\n",
       "  <tbody>\n",
       "    <tr>\n",
       "      <th>0</th>\n",
       "      <td>50</td>\n",
       "      <td>13</td>\n",
       "      <td>0</td>\n",
       "      <td>0</td>\n",
       "      <td>13</td>\n",
       "      <td>0</td>\n",
       "      <td>0</td>\n",
       "      <td>0</td>\n",
       "      <td>0</td>\n",
       "      <td>1</td>\n",
       "      <td>...</td>\n",
       "      <td>0</td>\n",
       "      <td>0</td>\n",
       "      <td>0</td>\n",
       "      <td>0</td>\n",
       "      <td>1</td>\n",
       "      <td>0</td>\n",
       "      <td>1</td>\n",
       "      <td>0</td>\n",
       "      <td>1</td>\n",
       "      <td>1</td>\n",
       "    </tr>\n",
       "    <tr>\n",
       "      <th>1</th>\n",
       "      <td>38</td>\n",
       "      <td>9</td>\n",
       "      <td>0</td>\n",
       "      <td>0</td>\n",
       "      <td>40</td>\n",
       "      <td>0</td>\n",
       "      <td>0</td>\n",
       "      <td>1</td>\n",
       "      <td>0</td>\n",
       "      <td>0</td>\n",
       "      <td>...</td>\n",
       "      <td>0</td>\n",
       "      <td>0</td>\n",
       "      <td>0</td>\n",
       "      <td>0</td>\n",
       "      <td>1</td>\n",
       "      <td>0</td>\n",
       "      <td>1</td>\n",
       "      <td>0</td>\n",
       "      <td>1</td>\n",
       "      <td>1</td>\n",
       "    </tr>\n",
       "    <tr>\n",
       "      <th>2</th>\n",
       "      <td>53</td>\n",
       "      <td>7</td>\n",
       "      <td>0</td>\n",
       "      <td>0</td>\n",
       "      <td>40</td>\n",
       "      <td>0</td>\n",
       "      <td>0</td>\n",
       "      <td>1</td>\n",
       "      <td>0</td>\n",
       "      <td>0</td>\n",
       "      <td>...</td>\n",
       "      <td>0</td>\n",
       "      <td>0</td>\n",
       "      <td>1</td>\n",
       "      <td>0</td>\n",
       "      <td>0</td>\n",
       "      <td>0</td>\n",
       "      <td>1</td>\n",
       "      <td>0</td>\n",
       "      <td>1</td>\n",
       "      <td>1</td>\n",
       "    </tr>\n",
       "    <tr>\n",
       "      <th>3</th>\n",
       "      <td>28</td>\n",
       "      <td>13</td>\n",
       "      <td>0</td>\n",
       "      <td>0</td>\n",
       "      <td>40</td>\n",
       "      <td>0</td>\n",
       "      <td>0</td>\n",
       "      <td>1</td>\n",
       "      <td>0</td>\n",
       "      <td>0</td>\n",
       "      <td>...</td>\n",
       "      <td>0</td>\n",
       "      <td>0</td>\n",
       "      <td>1</td>\n",
       "      <td>0</td>\n",
       "      <td>0</td>\n",
       "      <td>1</td>\n",
       "      <td>0</td>\n",
       "      <td>1</td>\n",
       "      <td>0</td>\n",
       "      <td>1</td>\n",
       "    </tr>\n",
       "    <tr>\n",
       "      <th>4</th>\n",
       "      <td>37</td>\n",
       "      <td>14</td>\n",
       "      <td>0</td>\n",
       "      <td>0</td>\n",
       "      <td>40</td>\n",
       "      <td>0</td>\n",
       "      <td>0</td>\n",
       "      <td>1</td>\n",
       "      <td>0</td>\n",
       "      <td>0</td>\n",
       "      <td>...</td>\n",
       "      <td>0</td>\n",
       "      <td>0</td>\n",
       "      <td>0</td>\n",
       "      <td>0</td>\n",
       "      <td>1</td>\n",
       "      <td>1</td>\n",
       "      <td>0</td>\n",
       "      <td>0</td>\n",
       "      <td>1</td>\n",
       "      <td>1</td>\n",
       "    </tr>\n",
       "    <tr>\n",
       "      <th>...</th>\n",
       "      <td>...</td>\n",
       "      <td>...</td>\n",
       "      <td>...</td>\n",
       "      <td>...</td>\n",
       "      <td>...</td>\n",
       "      <td>...</td>\n",
       "      <td>...</td>\n",
       "      <td>...</td>\n",
       "      <td>...</td>\n",
       "      <td>...</td>\n",
       "      <td>...</td>\n",
       "      <td>...</td>\n",
       "      <td>...</td>\n",
       "      <td>...</td>\n",
       "      <td>...</td>\n",
       "      <td>...</td>\n",
       "      <td>...</td>\n",
       "      <td>...</td>\n",
       "      <td>...</td>\n",
       "      <td>...</td>\n",
       "      <td>...</td>\n",
       "    </tr>\n",
       "    <tr>\n",
       "      <th>48834</th>\n",
       "      <td>33</td>\n",
       "      <td>13</td>\n",
       "      <td>0</td>\n",
       "      <td>0</td>\n",
       "      <td>40</td>\n",
       "      <td>0</td>\n",
       "      <td>0</td>\n",
       "      <td>1</td>\n",
       "      <td>0</td>\n",
       "      <td>0</td>\n",
       "      <td>...</td>\n",
       "      <td>0</td>\n",
       "      <td>0</td>\n",
       "      <td>0</td>\n",
       "      <td>0</td>\n",
       "      <td>1</td>\n",
       "      <td>0</td>\n",
       "      <td>1</td>\n",
       "      <td>0</td>\n",
       "      <td>1</td>\n",
       "      <td>1</td>\n",
       "    </tr>\n",
       "    <tr>\n",
       "      <th>48835</th>\n",
       "      <td>39</td>\n",
       "      <td>13</td>\n",
       "      <td>0</td>\n",
       "      <td>0</td>\n",
       "      <td>36</td>\n",
       "      <td>0</td>\n",
       "      <td>0</td>\n",
       "      <td>1</td>\n",
       "      <td>0</td>\n",
       "      <td>0</td>\n",
       "      <td>...</td>\n",
       "      <td>0</td>\n",
       "      <td>0</td>\n",
       "      <td>0</td>\n",
       "      <td>0</td>\n",
       "      <td>1</td>\n",
       "      <td>1</td>\n",
       "      <td>0</td>\n",
       "      <td>0</td>\n",
       "      <td>1</td>\n",
       "      <td>1</td>\n",
       "    </tr>\n",
       "    <tr>\n",
       "      <th>48837</th>\n",
       "      <td>38</td>\n",
       "      <td>13</td>\n",
       "      <td>0</td>\n",
       "      <td>0</td>\n",
       "      <td>50</td>\n",
       "      <td>0</td>\n",
       "      <td>0</td>\n",
       "      <td>1</td>\n",
       "      <td>0</td>\n",
       "      <td>0</td>\n",
       "      <td>...</td>\n",
       "      <td>0</td>\n",
       "      <td>0</td>\n",
       "      <td>0</td>\n",
       "      <td>0</td>\n",
       "      <td>1</td>\n",
       "      <td>0</td>\n",
       "      <td>1</td>\n",
       "      <td>0</td>\n",
       "      <td>1</td>\n",
       "      <td>1</td>\n",
       "    </tr>\n",
       "    <tr>\n",
       "      <th>48838</th>\n",
       "      <td>44</td>\n",
       "      <td>13</td>\n",
       "      <td>5455</td>\n",
       "      <td>0</td>\n",
       "      <td>40</td>\n",
       "      <td>0</td>\n",
       "      <td>0</td>\n",
       "      <td>1</td>\n",
       "      <td>0</td>\n",
       "      <td>0</td>\n",
       "      <td>...</td>\n",
       "      <td>0</td>\n",
       "      <td>1</td>\n",
       "      <td>0</td>\n",
       "      <td>0</td>\n",
       "      <td>0</td>\n",
       "      <td>0</td>\n",
       "      <td>1</td>\n",
       "      <td>0</td>\n",
       "      <td>1</td>\n",
       "      <td>1</td>\n",
       "    </tr>\n",
       "    <tr>\n",
       "      <th>48839</th>\n",
       "      <td>35</td>\n",
       "      <td>13</td>\n",
       "      <td>0</td>\n",
       "      <td>0</td>\n",
       "      <td>60</td>\n",
       "      <td>0</td>\n",
       "      <td>0</td>\n",
       "      <td>0</td>\n",
       "      <td>1</td>\n",
       "      <td>0</td>\n",
       "      <td>...</td>\n",
       "      <td>0</td>\n",
       "      <td>0</td>\n",
       "      <td>0</td>\n",
       "      <td>0</td>\n",
       "      <td>1</td>\n",
       "      <td>0</td>\n",
       "      <td>1</td>\n",
       "      <td>0</td>\n",
       "      <td>1</td>\n",
       "      <td>0</td>\n",
       "    </tr>\n",
       "  </tbody>\n",
       "</table>\n",
       "<p>45220 rows × 49 columns</p>\n",
       "</div>"
      ],
      "text/plain": [
       "       age  education-num  capital-gain  capital-loss  hours-per-week  \\\n",
       "0       50             13             0             0              13   \n",
       "1       38              9             0             0              40   \n",
       "2       53              7             0             0              40   \n",
       "3       28             13             0             0              40   \n",
       "4       37             14             0             0              40   \n",
       "...    ...            ...           ...           ...             ...   \n",
       "48834   33             13             0             0              40   \n",
       "48835   39             13             0             0              36   \n",
       "48837   38             13             0             0              50   \n",
       "48838   44             13          5455             0              40   \n",
       "48839   35             13             0             0              60   \n",
       "\n",
       "       workclass_Federal-gov  workclass_Local-gov  workclass_Private  \\\n",
       "0                          0                    0                  0   \n",
       "1                          0                    0                  1   \n",
       "2                          0                    0                  1   \n",
       "3                          0                    0                  1   \n",
       "4                          0                    0                  1   \n",
       "...                      ...                  ...                ...   \n",
       "48834                      0                    0                  1   \n",
       "48835                      0                    0                  1   \n",
       "48837                      0                    0                  1   \n",
       "48838                      0                    0                  1   \n",
       "48839                      0                    0                  0   \n",
       "\n",
       "       workclass_Self-emp-inc  workclass_Self-emp-not-inc  ...  \\\n",
       "0                           0                           1  ...   \n",
       "1                           0                           0  ...   \n",
       "2                           0                           0  ...   \n",
       "3                           0                           0  ...   \n",
       "4                           0                           0  ...   \n",
       "...                       ...                         ...  ...   \n",
       "48834                       0                           0  ...   \n",
       "48835                       0                           0  ...   \n",
       "48837                       0                           0  ...   \n",
       "48838                       0                           0  ...   \n",
       "48839                       1                           0  ...   \n",
       "\n",
       "       race_Amer-Indian-Eskimo  race_Asian-Pac-Islander  race_Black  \\\n",
       "0                            0                        0           0   \n",
       "1                            0                        0           0   \n",
       "2                            0                        0           1   \n",
       "3                            0                        0           1   \n",
       "4                            0                        0           0   \n",
       "...                        ...                      ...         ...   \n",
       "48834                        0                        0           0   \n",
       "48835                        0                        0           0   \n",
       "48837                        0                        0           0   \n",
       "48838                        0                        1           0   \n",
       "48839                        0                        0           0   \n",
       "\n",
       "       race_Other  race_White  sex_Female  sex_Male  native-country_Other  \\\n",
       "0               0           1           0         1                     0   \n",
       "1               0           1           0         1                     0   \n",
       "2               0           0           0         1                     0   \n",
       "3               0           0           1         0                     1   \n",
       "4               0           1           1         0                     0   \n",
       "...           ...         ...         ...       ...                   ...   \n",
       "48834           0           1           0         1                     0   \n",
       "48835           0           1           1         0                     0   \n",
       "48837           0           1           0         1                     0   \n",
       "48838           0           0           0         1                     0   \n",
       "48839           0           1           0         1                     0   \n",
       "\n",
       "       native-country_United-States  class_<=50K  \n",
       "0                                 1            1  \n",
       "1                                 1            1  \n",
       "2                                 1            1  \n",
       "3                                 0            1  \n",
       "4                                 1            1  \n",
       "...                             ...          ...  \n",
       "48834                             1            1  \n",
       "48835                             1            1  \n",
       "48837                             1            1  \n",
       "48838                             1            1  \n",
       "48839                             1            0  \n",
       "\n",
       "[45220 rows x 49 columns]"
      ]
     },
     "execution_count": 14,
     "metadata": {},
     "output_type": "execute_result"
    }
   ],
   "source": [
    "data = data.drop(columns=['fnlwgt'])\n",
    "data"
   ]
  },
  {
   "cell_type": "markdown",
   "id": "ec546711",
   "metadata": {},
   "source": [
    "### 1.1.6. Splitting in training and test data <a class=\"anchor\" id=\"Splitting\"></a>\n",
    "Before any scaling is taking place, the data needs to be divided into training and test data, so the test data is not influenced by the training data. A test size of 20% is chosen. To make the test runs reproducible, a fixed random state is set for now. \n",
    "\n",
    "Also, the imbalanced number of rows per target value needs to get balanced. To get a balanced number of target values, new rows will be created using the function [SMOTE](https://imbalanced-learn.org/stable/references/generated/imblearn.over_sampling.SMOTE.html). Smote creates new rows based on the existing ones, but doesn't just copy a part of the existing dataset. The function will be applied to the training set, since the test set shouldn't be touched at any point."
   ]
  },
  {
   "cell_type": "code",
   "execution_count": 15,
   "id": "6571f9a0",
   "metadata": {},
   "outputs": [],
   "source": [
    "from sklearn.model_selection import train_test_split\n",
    "\n",
    "# save this state of the dataset for later regression prediction\n",
    "data_reg = data.copy()\n",
    "\n",
    "# input variables\n",
    "X = data.iloc[:, :-1]\n",
    "# target variable\n",
    "y = data.iloc[:, -1]\n",
    "\n",
    "# split into test and training data\n",
    "X_train, X_test, y_train, y_test = train_test_split(X, y, test_size=0.2, random_state=4)\n",
    "\n",
    "# oversampling\n",
    "from imblearn.over_sampling import SMOTE\n",
    "\n",
    "smote = SMOTE(random_state=888)\n",
    "\n",
    "X_train, y_train = smote.fit_resample(X_train, y_train)"
   ]
  },
  {
   "cell_type": "markdown",
   "id": "edd2011f-3826-4239-a505-e84960ead585",
   "metadata": {},
   "source": [
    "### 1.1.7. Feature scaling <a class=\"anchor\" id=\"Feature_scaling\"></a>\n",
    "\n",
    "The numerical data has different scaling for the single features. To equal their influence in the prediction, a normalization scale is applied to these features.  \n",
    "The One Hot Encoded columns are already in the range of 0 and 1, so they won't be touched by the scaling.\n",
    "For this task, we use the sklearn [MinMaxScalar](https://scikit-learn.org/stable/modules/generated/sklearn.preprocessing.MinMaxScaler.html)."
   ]
  },
  {
   "cell_type": "code",
   "execution_count": 16,
   "id": "4831cf6e",
   "metadata": {},
   "outputs": [],
   "source": [
    "# data normalization with sklearn\n",
    "from sklearn.preprocessing import MinMaxScaler\n",
    "\n",
    "# fit scaler on training data\n",
    "norm = MinMaxScaler().fit(X_train)\n",
    "\n",
    "# transform training data using the training data scaler\n",
    "X_train_norm = X_train.copy()\n",
    "X_train_norm[X_train_norm.columns] = norm.transform(X_train[X_train.columns])\n",
    "\n",
    "# transform testing data using the training data scaler\n",
    "X_test_norm = X_test.copy()\n",
    "X_test_norm[X_test_norm.columns] = norm.transform(X_test[X_test.columns])"
   ]
  },
  {
   "cell_type": "markdown",
   "id": "ad6078c9",
   "metadata": {},
   "source": [
    "## 1.2. Prediction Algorithms <a class=\"anchor\" id=\"Prediction_Algorithms\"></a>"
   ]
  },
  {
   "cell_type": "markdown",
   "id": "1c944a48",
   "metadata": {},
   "source": [
    "### 1.2.1. Evaluation of the models <a class=\"anchor\" id=\"evaluation\"></a>\n",
    "\n",
    "For the evaluation of the performance of the classifiers there are different methods that can be used, such as accuracy, precision, recall, f1-score, ROC Curve, Precision-Recall Curve, ...  \n",
    "Except for accuracy, all methods focus on the target variable being 1 - they are putting different weights of importance to the target variable being 0 or 1. Since our prediction goal to see whether a person makes more than 50K a year doesn't include which outcome is more preferred, we will stick to only the accuracy for evaluating our models."
   ]
  },
  {
   "cell_type": "markdown",
   "id": "a63fb3eb",
   "metadata": {},
   "source": [
    "Set up of a general function for plotting a confusion matrix for the model evaluation:"
   ]
  },
  {
   "cell_type": "code",
   "execution_count": 17,
   "id": "5c9fb48f",
   "metadata": {},
   "outputs": [],
   "source": [
    "# import libraries\n",
    "from sklearn.metrics import confusion_matrix, accuracy_score, precision_score\n",
    "\n",
    "# define function for plotting a confusion matrix\n",
    "def plot_confusion_matrix(cf_matrix, model_name):\n",
    "    group_names = ['True Neg', 'False Pos', 'False Neg', 'True Pos']\n",
    "\n",
    "    group_counts = [\"{0:0.0f}\".format(value) for value in\n",
    "                    cf_matrix.flatten()]\n",
    "\n",
    "    group_percentages = [\"{0:.2%}\".format(value) for value in\n",
    "                         cf_matrix.flatten()/np.sum(cf_matrix)]\n",
    "\n",
    "    labels = [f\"{v1}\\n{v2}\\n{v3}\" for v1, v2, v3 in\n",
    "              zip(group_names,group_counts,group_percentages)]\n",
    "\n",
    "    labels = np.asarray(labels).reshape(2,2)\n",
    "\n",
    "    ax = sns.heatmap(cf_matrix, annot=labels, fmt='', cmap='Blues')\n",
    "\n",
    "    ax.set_title(f'Confusion Matrix for {model_name}\\n');\n",
    "    ax.set_xlabel('\\nPredicted Values')\n",
    "    ax.set_ylabel('Actual Values ');\n",
    "\n",
    "    ax.xaxis.set_ticklabels(['False','True'])\n",
    "    ax.yaxis.set_ticklabels(['False','True'])\n",
    "    \n",
    "    plt.show()"
   ]
  },
  {
   "cell_type": "markdown",
   "id": "889d6156",
   "metadata": {},
   "source": [
    "### 1.2.2. K-Nearest Neighbours <a class=\"anchor\" id=\"knn\"></a>\n",
    "\n",
    "K-Nearest Neighbours is one of the simplest Machine Learning algorithms based on Supervised Learning technique.\n",
    "KNN algorithm assumes the similarity between the new case/data and available cases and put the new case into the category that is most similar to the available categories.  \n",
    "We use the sklearn implementation of [KNN](https://scikit-learn.org/stable/modules/generated/sklearn.neighbors.KNeighborsClassifier.html).\n",
    "\n",
    "The challenge here is to find the best K.\n",
    "\n",
    "First run with K = 5 (default):"
   ]
  },
  {
   "cell_type": "code",
   "execution_count": 18,
   "id": "3f1962a9",
   "metadata": {},
   "outputs": [
    {
     "name": "stdout",
     "output_type": "stream",
     "text": [
      "Model accuracy score with default setting: 0.8066\n"
     ]
    },
    {
     "data": {
      "image/png": "[encoded data removed]",
      "text/plain": [
       "<Figure size 432x288 with 2 Axes>"
      ]
     },
     "metadata": {
      "needs_background": "light"
     },
     "output_type": "display_data"
    }
   ],
   "source": [
    "from sklearn.neighbors import KNeighborsClassifier\n",
    "\n",
    "model_knn = KNeighborsClassifier()\n",
    "\n",
    "# apply model to training data\n",
    "model_knn.fit(X_train_norm, y_train)\n",
    "\n",
    "# predict target for the test data with trained model\n",
    "y_pred = model_knn.predict(X_test_norm)\n",
    "\n",
    "# Evaluation with confusion_matrix and accuracy\n",
    "cf_matrix = confusion_matrix(y_test, y_pred)\n",
    "print('Model accuracy score with default setting: {0:0.4f}'.format(accuracy_score(y_test, y_pred)))\n",
    "\n",
    "plot_confusion_matrix(cf_matrix, 'KNeighborsClassifier') "
   ]
  },
  {
   "cell_type": "markdown",
   "id": "b878f844",
   "metadata": {},
   "source": [
    "The accuracy is already quite high. Since around 75% of the class entries of the test dataset have the value '<=50K' == 1 it fits that the biggest field in the confusion matrix is the 'True Pos'."
   ]
  },
  {
   "cell_type": "markdown",
   "id": "facd87f7",
   "metadata": {},
   "source": [
    "To find the best K value, the algorithm is run over a range of possible Ks and the K value with the best resulting accuracy of the prediction is selected:"
   ]
  },
  {
   "cell_type": "code",
   "execution_count": 19,
   "id": "7f53ff4c",
   "metadata": {
    "tags": []
   },
   "outputs": [],
   "source": [
    "scores_knn = []\n",
    "k_range = list(range(1, 21))\n",
    "\n",
    "for i in k_range:\n",
    "    model_knn = KNeighborsClassifier(n_neighbors=i)\n",
    "    model_knn.fit(X_train_norm, y_train)\n",
    "    pred_i = model_knn.predict(X_test_norm)\n",
    "    scores_knn.append(accuracy_score(y_test, pred_i))"
   ]
  },
  {
   "cell_type": "code",
   "execution_count": 20,
   "id": "e5354e64",
   "metadata": {
    "tags": []
   },
   "outputs": [
    {
     "name": "stdout",
     "output_type": "stream",
     "text": [
      "Best K value: 11\n"
     ]
    },
    {
     "data": {
      "image/png": "[encoded data removed]",
      "text/plain": [
       "<Figure size 720x432 with 1 Axes>"
      ]
     },
     "metadata": {
      "needs_background": "light"
     },
     "output_type": "display_data"
    }
   ],
   "source": [
    "# plot the relationship between K and testing accuracy\n",
    "plt.figure(figsize=(10,6))\n",
    "plt.plot(k_range, scores_knn, color='blue', linestyle='dashed', marker='o',\n",
    " markerfacecolor='red', markersize=10)\n",
    "plt.title('Testing Accuracy vs. K Value')\n",
    "plt.xlabel('Value of K for KNN')\n",
    "plt.ylabel('Testing Accuracy')\n",
    "plt.xticks(k_range)\n",
    "\n",
    "best_k_value = scores_knn.index(max(scores_knn)) + 1\n",
    "print(f'Best K value: {best_k_value}')"
   ]
  },
  {
   "cell_type": "markdown",
   "id": "1eabeabe",
   "metadata": {},
   "source": [
    "It is obvious, that an even number for K leads to a worse performance. This is because the algorithm is a majority voting algorithm. An even number can lead to a tie in number of samples at the decision boundaries.  \n",
    "\n",
    "After K = 11 the accuracy is not getting much better anymore, so K = 11 is chosen for the knn classifier."
   ]
  },
  {
   "cell_type": "code",
   "execution_count": 21,
   "id": "c184c013",
   "metadata": {},
   "outputs": [
    {
     "name": "stdout",
     "output_type": "stream",
     "text": [
      "Model accuracy score: 0.8116\n"
     ]
    }
   ],
   "source": [
    "model_knn = KNeighborsClassifier(n_neighbors = best_k_value)\n",
    "\n",
    "# apply model to training data\n",
    "model_knn.fit(X_train_norm, y_train)\n",
    "\n",
    "# predict target for the test data with trained model\n",
    "y_pred = model_knn.predict(X_test_norm)\n",
    "\n",
    "# Evaluation with confusion_matrix and accuracy\n",
    "cf_matrix = confusion_matrix(y_test, y_pred)\n",
    "print('Model accuracy score: {0:0.4f}'.format(accuracy_score(y_test, y_pred)))"
   ]
  },
  {
   "cell_type": "markdown",
   "id": "8c6acdb2",
   "metadata": {},
   "source": [
    "### 1.2.3. Decision Tree <a class=\"anchor\" id=\"Decision_Tree\"></a>\n",
    "\n",
    "Decision Tree is a Supervised learning technique. It is a tree-structured classifier, where internal nodes represent the features of a dataset, branches represent the decision rules and each leaf node represents the outcome.\n",
    "\n",
    "For the decision trees, no feature scaling is needed, because the comparison of values stays inside the single features. The original train and test data will be used.  \n",
    "For splitting the nodes of the decision tree, the gini and entropy criterion can be used. Both will be evaluated.  \n",
    "To handle overfitting, a parameter for the maximum depth of the tree needs to be found.  \n",
    "We use the sklearn implementation of [Decision Tree](https://scikit-learn.org/stable/modules/generated/sklearn.tree.DecisionTreeClassifier.html)."
   ]
  },
  {
   "cell_type": "code",
   "execution_count": 22,
   "id": "03071f5a",
   "metadata": {},
   "outputs": [
    {
     "name": "stdout",
     "output_type": "stream",
     "text": [
      "Model accuracy score: 0.8010\n"
     ]
    }
   ],
   "source": [
    "from sklearn.tree import DecisionTreeClassifier\n",
    "\n",
    "# to get the same results for every new run, the random_state is set\n",
    "model_tree = DecisionTreeClassifier(random_state = 0) # default criterion = 'gini'\n",
    "\n",
    "# apply model to training data\n",
    "model_tree.fit(X_train, y_train)\n",
    "\n",
    "# predict target for the test data with trained model\n",
    "y_pred = model_tree.predict(X_test)\n",
    "\n",
    "# Evaluation with confusion_matrix and accuracy\n",
    "cf_matrix = confusion_matrix(y_test, y_pred)\n",
    "print('Model accuracy score: {0:0.4f}'.format(accuracy_score(y_test, y_pred)))"
   ]
  },
  {
   "cell_type": "markdown",
   "id": "899f9e35",
   "metadata": {},
   "source": [
    "In a next step, the other criterion \"entropy\" will be tested:"
   ]
  },
  {
   "cell_type": "code",
   "execution_count": 23,
   "id": "8a2ec6dc",
   "metadata": {},
   "outputs": [
    {
     "name": "stdout",
     "output_type": "stream",
     "text": [
      "Model accuracy score with max_depth = None: 0.8094\n"
     ]
    }
   ],
   "source": [
    "# to get the same results for every new run, the random_state is set\n",
    "model_tree = DecisionTreeClassifier(random_state = 0, criterion = \"entropy\")\n",
    "\n",
    "# apply model to training data\n",
    "model_tree.fit(X_train, y_train)\n",
    "\n",
    "# predict target for the test data with trained model\n",
    "y_pred = model_tree.predict(X_test)\n",
    "\n",
    "# Evaluation with confusion_matrix and accuracy\n",
    "cf_matrix = confusion_matrix(y_test, y_pred)\n",
    "print('Model accuracy score with max_depth = None: {0:0.4f}'.format(accuracy_score(y_test, y_pred)))"
   ]
  },
  {
   "cell_type": "markdown",
   "id": "1caf4eb3",
   "metadata": {},
   "source": [
    "Since the accuracy for criterion \"entropy\" was a little better than \"gini\", the criterion = \"entropy\" will be used.\n",
    "\n",
    "Now, the max_depth needs to be optimized:"
   ]
  },
  {
   "cell_type": "code",
   "execution_count": 24,
   "id": "ce77b84b",
   "metadata": {},
   "outputs": [
    {
     "name": "stdout",
     "output_type": "stream",
     "text": [
      "Maximum depth of the tree: 48\n"
     ]
    }
   ],
   "source": [
    "# get the maximum depth of the tree\n",
    "max_depth = model_tree.tree_.max_depth\n",
    "print(f'Maximum depth of the tree: {max_depth}')\n",
    "\n",
    "scores_tree = []\n",
    "d_range = list(range(1, max_depth + 1))\n",
    "\n",
    "for i in d_range:\n",
    "    model_tree = DecisionTreeClassifier(random_state = 0, max_depth=i, criterion = \"entropy\")\n",
    "    model_tree.fit(X_train, y_train)\n",
    "    pred_i = model_tree.predict(X_test)\n",
    "    scores_tree.append(accuracy_score(y_test, pred_i))"
   ]
  },
  {
   "cell_type": "code",
   "execution_count": 25,
   "id": "d8e8089e",
   "metadata": {},
   "outputs": [
    {
     "name": "stdout",
     "output_type": "stream",
     "text": [
      "Best max_depth: 18\n"
     ]
    },
    {
     "data": {
      "image/png": "[encoded data removed]",
      "text/plain": [
       "<Figure size 720x432 with 1 Axes>"
      ]
     },
     "metadata": {
      "needs_background": "light"
     },
     "output_type": "display_data"
    }
   ],
   "source": [
    "# plot the relationship between K and testing accuracy\n",
    "plt.figure(figsize=(10, 6))\n",
    "plt.plot(d_range, scores_tree, color='blue', linestyle='dashed', marker='o',\n",
    " markerfacecolor='red', markersize=10)\n",
    "plt.title('Testing Accuracy vs. max_depth')\n",
    "plt.xlabel('Value of max_depth')\n",
    "plt.ylabel('Testing Accuracy')\n",
    "\n",
    "best_max_depth = scores_tree.index(max(scores_tree)) + 1\n",
    "print(f'Best max_depth: {best_max_depth}')"
   ]
  },
  {
   "cell_type": "code",
   "execution_count": 26,
   "id": "21944f63",
   "metadata": {},
   "outputs": [
    {
     "name": "stdout",
     "output_type": "stream",
     "text": [
      "Model accuracy score with max_depth = 18: 0.8221\n"
     ]
    }
   ],
   "source": [
    "# to get the same results for every new run the random_state is set\n",
    "model_tree = DecisionTreeClassifier(random_state = 0, max_depth = best_max_depth, criterion = \"entropy\")\n",
    "\n",
    "# apply model to training data\n",
    "model_tree.fit(X_train, y_train)\n",
    "\n",
    "# predict target for the test data with trained model\n",
    "y_pred = model_tree.predict(X_test)\n",
    "\n",
    "# Evaluation with confusion_matrix and accuracy\n",
    "cf_matrix = confusion_matrix(y_test, y_pred)\n",
    "print('Model accuracy score with max_depth = ' + str(best_max_depth) + ': {0:0.4f}'.format(accuracy_score(y_test, y_pred)))"
   ]
  },
  {
   "cell_type": "markdown",
   "id": "2c61bccb",
   "metadata": {},
   "source": [
    "The accuracy for the DecisionTreeClassifier with criterion = \"entropy\" and max_depth = 18 is 82,21%."
   ]
  },
  {
   "cell_type": "markdown",
   "id": "9eeeec11",
   "metadata": {},
   "source": [
    "### 1.2.4. Support Vector Machines <a class=\"anchor\" id=\"SVM\"></a>\n",
    "\n",
    "A Support Vector Machine (SVM) is also a supervised machine learning model that tries to find a hyperplane in an N-dimensional space(N — the number of features) that distinctly classifies the data points.  \n",
    "We use the sklearn implementation of [SVM](https://scikit-learn.org/stable/modules/generated/sklearn.svm.SVC.html).\n",
    "\n",
    "For the SVM different kernel functions can be used to compute the hyperplane like \"linear\", \"polynomial\", and \"radial basis function (RBF)\":"
   ]
  },
  {
   "cell_type": "code",
   "execution_count": 27,
   "id": "f8ff3b9c",
   "metadata": {},
   "outputs": [
    {
     "name": "stdout",
     "output_type": "stream",
     "text": [
      "Model accuracy score with kernel = \"linear\" : 0.8293\n",
      "Duration: 0:01:10.211735\n"
     ]
    }
   ],
   "source": [
    "from sklearn.svm import SVC\n",
    "from datetime import datetime\n",
    "start_time = datetime.now()\n",
    "\n",
    "model_svm = SVC(kernel = 'linear')\n",
    "\n",
    "# apply model to training data\n",
    "model_svm.fit(X_train_norm, y_train)\n",
    "\n",
    "# predict target for the test data with trained model\n",
    "y_pred = model_svm.predict(X_test_norm)\n",
    "\n",
    "# Evaluation with confusion_matrix and accuracy\n",
    "cf_matrix = confusion_matrix(y_test, y_pred)\n",
    "print('Model accuracy score with kernel = \"linear\" : {0:0.4f}'.format(accuracy_score(y_test, y_pred)))\n",
    "\n",
    "end_time = datetime.now()\n",
    "print('Duration: {}'.format(end_time - start_time))"
   ]
  },
  {
   "cell_type": "code",
   "execution_count": 28,
   "id": "eef8e746",
   "metadata": {},
   "outputs": [
    {
     "name": "stdout",
     "output_type": "stream",
     "text": [
      "Model accuracy score with kernel = \"poly\" : 0.8274\n",
      "Duration: 0:01:16.286731\n"
     ]
    }
   ],
   "source": [
    "start_time = datetime.now()\n",
    "\n",
    "model_svm = SVC(kernel='poly')\n",
    "\n",
    "# apply model to training data\n",
    "model_svm.fit(X_train_norm, y_train)\n",
    "\n",
    "# predict target for the test data with trained model\n",
    "y_pred = model_svm.predict(X_test_norm)\n",
    "\n",
    "# Evaluation with confusion_matrix and accuracy\n",
    "cf_matrix = confusion_matrix(y_test, y_pred)\n",
    "print('Model accuracy score with kernel = \"poly\" : {0:0.4f}'.format(accuracy_score(y_test, y_pred)))\n",
    "\n",
    "end_time = datetime.now()\n",
    "print('Duration: {}'.format(end_time - start_time))"
   ]
  },
  {
   "cell_type": "code",
   "execution_count": 29,
   "id": "ca354599",
   "metadata": {},
   "outputs": [
    {
     "name": "stdout",
     "output_type": "stream",
     "text": [
      "Model accuracy score with kernel = \"rbf\" : 0.8223\n",
      "Duration: 0:01:29.005492\n"
     ]
    }
   ],
   "source": [
    "start_time = datetime.now()\n",
    "\n",
    "model_svm = SVC(kernel='rbf')\n",
    "\n",
    "# apply model to training data\n",
    "model_svm.fit(X_train_norm, y_train)\n",
    "\n",
    "# predict target for the test data with trained model\n",
    "y_pred = model_svm.predict(X_test_norm)\n",
    "\n",
    "# Evaluation with confusion_matrix and accuracy\n",
    "cf_matrix = confusion_matrix(y_test, y_pred)\n",
    "print('Model accuracy score with kernel = \"rbf\" : {0:0.4f}'.format(accuracy_score(y_test, y_pred)))\n",
    "\n",
    "end_time = datetime.now()\n",
    "print('Duration: {}'.format(end_time - start_time))"
   ]
  },
  {
   "cell_type": "markdown",
   "id": "ab1cd9ac",
   "metadata": {},
   "source": [
    "All kernels result in quite similar accuracy results. They all need a long time to compute.\n",
    "\n",
    "The LinearSVC implementation is supposed to run faster and give the same results as the SVC with kernel = \"linear\":"
   ]
  },
  {
   "cell_type": "code",
   "execution_count": 30,
   "id": "adcdbd54",
   "metadata": {},
   "outputs": [
    {
     "name": "stdout",
     "output_type": "stream",
     "text": [
      "Model accuracy score: 0.8357\n",
      "Duration: 0:00:00.673107\n"
     ]
    }
   ],
   "source": [
    "from sklearn.svm import LinearSVC\n",
    "start_time = datetime.now()\n",
    "\n",
    "model_svm = LinearSVC()\n",
    "\n",
    "# apply model to training data\n",
    "model_svm.fit(X_train_norm, y_train)\n",
    "\n",
    "# predict target for the test data with trained model\n",
    "y_pred = model_svm.predict(X_test_norm)\n",
    "\n",
    "# Evaluation with confusion_matrix and accuracy\n",
    "cf_matrix = confusion_matrix(y_test, y_pred)\n",
    "print('Model accuracy score: {0:0.4f}'.format(accuracy_score(y_test, y_pred)))\n",
    "\n",
    "end_time = datetime.now()\n",
    "print('Duration: {}'.format(end_time - start_time))"
   ]
  },
  {
   "cell_type": "markdown",
   "id": "aeb85ee6",
   "metadata": {},
   "source": [
    "The LinearSVC runs much faster and gives the same results.\n",
    "\n",
    "The best value for the regularization parameter C needs to be found:"
   ]
  },
  {
   "cell_type": "code",
   "execution_count": 31,
   "id": "b750dadb",
   "metadata": {},
   "outputs": [],
   "source": [
    "scores_svm = []\n",
    "c_range = [0.0001, 0.001, 0.01, 0.1, 1.0, 10, 100]\n",
    "\n",
    "for i in c_range:\n",
    "    model_svm = LinearSVC(C = i, max_iter = 100000)\n",
    "    model_svm.fit(X_train_norm, y_train)\n",
    "    pred_i = model_svm.predict(X_test_norm)\n",
    "    scores_svm.append(accuracy_score(y_test, pred_i))"
   ]
  },
  {
   "cell_type": "code",
   "execution_count": 32,
   "id": "f9cbd838",
   "metadata": {},
   "outputs": [
    {
     "name": "stdout",
     "output_type": "stream",
     "text": [
      "Best C: 10\n"
     ]
    },
    {
     "data": {
      "image/png": "[encoded data removed]",
      "text/plain": [
       "<Figure size 720x432 with 1 Axes>"
      ]
     },
     "metadata": {
      "needs_background": "light"
     },
     "output_type": "display_data"
    }
   ],
   "source": [
    "# plot the relationship between K and testing accuracy\n",
    "plt.figure(figsize=(10,6))\n",
    "plt.plot(c_range, scores_svm, color='blue', linestyle='dashed', marker='o',\n",
    " markerfacecolor='red', markersize=10)\n",
    "plt.title('Testing Accuracy vs. regularization parameter C')\n",
    "plt.xlabel('Value of C')\n",
    "plt.ylabel('Testing Accuracy')\n",
    "plt.xscale('log', base=10) \n",
    "\n",
    "best_c = c_range[scores_svm.index(max(scores_svm))]\n",
    "print(f'Best C: {best_c}')"
   ]
  },
  {
   "cell_type": "markdown",
   "id": "fe15850d",
   "metadata": {},
   "source": [
    "With C = 10 the model works best."
   ]
  },
  {
   "cell_type": "code",
   "execution_count": 33,
   "id": "74dd9eb2",
   "metadata": {},
   "outputs": [
    {
     "name": "stdout",
     "output_type": "stream",
     "text": [
      "Model accuracy score: 0.8362\n"
     ]
    }
   ],
   "source": [
    "model_svm = LinearSVC(C = best_c, max_iter = 10000)\n",
    "\n",
    "# apply model to training data\n",
    "model_svm.fit(X_train_norm, y_train)\n",
    "\n",
    "# predict target for the test data with trained model\n",
    "y_pred = model_svm.predict(X_test_norm)\n",
    "\n",
    "# Evaluation with confusion_matrix and accuracy\n",
    "cf_matrix = confusion_matrix(y_test, y_pred)\n",
    "print('Model accuracy score: {0:0.4f}'.format(accuracy_score(y_test, y_pred)))"
   ]
  },
  {
   "cell_type": "markdown",
   "id": "3480acd1",
   "metadata": {},
   "source": [
    "### 1.2.5. Logistic Regression <a class=\"anchor\" id=\"Logistic_Regression\"></a>\n",
    "\n",
    "Logistic Regression is a predictive analysis algorithm and based on the concept of probability using the Sigmoid Function as a cost function.\n",
    "\n",
    "Fulfilled requirements for Logistic Regression:\n",
    "* the dependent variable is binary\n",
    "* the independent variables are independent of each other (see correlation matrix)\n",
    "* the dataset is big enough\n",
    "\n",
    "We use the sklearn implementation of [Logistic Regression](https://scikit-learn.org/stable/modules/generated/sklearn.linear_model.LogisticRegression.html?highlight=logistic%20regression#sklearn.linear_model.LogisticRegression).\n",
    "\n",
    "Logistic Regression with default parameters:"
   ]
  },
  {
   "cell_type": "code",
   "execution_count": 34,
   "id": "e65fc9a5",
   "metadata": {},
   "outputs": [
    {
     "name": "stdout",
     "output_type": "stream",
     "text": [
      "Model accuracy score with default setting: 0.8343\n"
     ]
    }
   ],
   "source": [
    "from sklearn.linear_model import LogisticRegression\n",
    "\n",
    "model_lr = LogisticRegression(max_iter = 500)\n",
    "\n",
    "# apply model to training data\n",
    "model_lr.fit(X_train_norm, y_train)\n",
    "\n",
    "# predict target for the test data with trained model\n",
    "y_pred = model_lr.predict(X_test_norm)\n",
    "\n",
    "# Evaluation with confusion_matrix and accuracy\n",
    "cf_matrix = confusion_matrix(y_test, y_pred)\n",
    "print('Model accuracy score with default setting: {0:0.4f}'.format(accuracy_score(y_test, y_pred)))"
   ]
  },
  {
   "cell_type": "markdown",
   "id": "bf18cce9",
   "metadata": {},
   "source": [
    " To find the best parameters, the sklearn GridSearchCV will be used. It runs through all the different parameters that are fed into the parameter grid using cross validation and produces the best combination of parameters. You can choose here between different regularization (Lasso and Ridge), C for the regularization strength and different solver functions."
   ]
  },
  {
   "cell_type": "code",
   "execution_count": 35,
   "id": "ea100a7a",
   "metadata": {
    "scrolled": true
   },
   "outputs": [
    {
     "name": "stderr",
     "output_type": "stream",
     "text": [
      "C:\\Users\\Joerdimade\\AppData\\Local\\Programs\\Python\\Python39\\lib\\site-packages\\sklearn\\model_selection\\_validation.py:372: FitFailedWarning: \n",
      "30 fits failed out of a total of 180.\n",
      "The score on these train-test partitions for these parameters will be set to nan.\n",
      "If these failures are not expected, you can try to debug them by setting error_score='raise'.\n",
      "\n",
      "Below are more details about the failures:\n",
      "--------------------------------------------------------------------------------\n",
      "30 fits failed with the following error:\n",
      "Traceback (most recent call last):\n",
      "  File \"C:\\Users\\Joerdimade\\AppData\\Local\\Programs\\Python\\Python39\\lib\\site-packages\\sklearn\\model_selection\\_validation.py\", line 680, in _fit_and_score\n",
      "    estimator.fit(X_train, y_train, **fit_params)\n",
      "  File \"C:\\Users\\Joerdimade\\AppData\\Local\\Programs\\Python\\Python39\\lib\\site-packages\\sklearn\\linear_model\\_logistic.py\", line 1461, in fit\n",
      "    solver = _check_solver(self.solver, self.penalty, self.dual)\n",
      "  File \"C:\\Users\\Joerdimade\\AppData\\Local\\Programs\\Python\\Python39\\lib\\site-packages\\sklearn\\linear_model\\_logistic.py\", line 447, in _check_solver\n",
      "    raise ValueError(\n",
      "ValueError: Solver lbfgs supports only 'l2' or 'none' penalties, got l1 penalty.\n",
      "\n",
      "  warnings.warn(some_fits_failed_message, FitFailedWarning)\n",
      "C:\\Users\\Joerdimade\\AppData\\Local\\Programs\\Python\\Python39\\lib\\site-packages\\sklearn\\model_selection\\_search.py:969: UserWarning: One or more of the test scores are non-finite: [       nan 0.76115054 0.75231833 0.78665306 0.78788589 0.78665306\n",
      "        nan 0.84483435 0.84352793 0.84812797 0.84790713 0.84814637\n",
      "        nan 0.86209388 0.86194669 0.86040109 0.86064023 0.86040109\n",
      "        nan 0.86365793 0.86356594 0.8622412  0.86249878 0.8622596\n",
      "        nan 0.86376834 0.86373155 0.86336355 0.86341874 0.86336355\n",
      "        nan 0.86380514 0.86378675 0.86363955 0.86365795 0.86369475]\n",
      "  warnings.warn(\n"
     ]
    },
    {
     "data": {
      "text/plain": [
       "GridSearchCV(cv=5, estimator=LogisticRegression(max_iter=1000),\n",
       "             param_grid={'C': [0.001, 0.01, 0.1, 1, 10, 100],\n",
       "                         'penalty': ['l1', 'l2'],\n",
       "                         'solver': ['lbfgs', 'liblinear', 'saga']},\n",
       "             scoring='accuracy')"
      ]
     },
     "execution_count": 35,
     "metadata": {},
     "output_type": "execute_result"
    }
   ],
   "source": [
    "# Grid search cross validation\n",
    "from sklearn.model_selection import GridSearchCV\n",
    "\n",
    "grid={\"C\" : [0.001, 0.01, 0.1, 1, 10, 100], \"penalty\" : [\"l1\", \"l2\"], \"solver\" : ['lbfgs', 'liblinear', 'saga']}\n",
    "\n",
    "model_lr = LogisticRegression(max_iter = 1000)\n",
    "model_lr_cv = GridSearchCV(model_lr, grid, cv = 5, scoring = 'accuracy')\n",
    "model_lr_cv.fit(X_train_norm, y_train)"
   ]
  },
  {
   "cell_type": "code",
   "execution_count": 36,
   "id": "b9ce22b1",
   "metadata": {},
   "outputs": [
    {
     "name": "stdout",
     "output_type": "stream",
     "text": [
      "Tuned hpyerparameters :(best parameters)  {'C': 100, 'penalty': 'l1', 'solver': 'liblinear'}\n",
      "Model accuracy score with best setting: 0.8638\n"
     ]
    }
   ],
   "source": [
    "print(\"Tuned hpyerparameters :(best parameters) \", model_lr_cv.best_params_)\n",
    "print('Model accuracy score with best setting: {0:0.4f}'.format(model_lr_cv.best_score_))"
   ]
  },
  {
   "cell_type": "markdown",
   "id": "e201d0d8",
   "metadata": {},
   "source": [
    "Not all solver types can work with all penalty options, but we see which combination runs best in the end.\n",
    "Since the dataset is quite big, the GridSearchCV takes some time to run, but delivers a good result in the end."
   ]
  },
  {
   "cell_type": "markdown",
   "id": "925a0cad-ff65-4310-b0fe-8439baf8d0f4",
   "metadata": {},
   "source": [
    "### 1.2.6. Naive Bayes <a class=\"anchor\" id=\"Naive_Bayes\"></a>\n",
    "\n",
    "Classification technique based on Bayes’ Theorem with assumption of independence and equal contribution among the features.   \n",
    "We use the sklearn implementation of [Naive Bayes](https://scikit-learn.org/stable/modules/generated/sklearn.naive_bayes.MultinomialNB.html#sklearn.naive_bayes.MultinomialNB)."
   ]
  },
  {
   "cell_type": "code",
   "execution_count": 37,
   "id": "d5094615-8353-43a4-bc4c-dcdab3304c90",
   "metadata": {},
   "outputs": [
    {
     "name": "stdout",
     "output_type": "stream",
     "text": [
      "Model accuracy score with default setting: 0.7400\n"
     ]
    }
   ],
   "source": [
    "from sklearn.naive_bayes import MultinomialNB\n",
    "\n",
    "model_nb = MultinomialNB()\n",
    "\n",
    "\n",
    "# apply model to training data\n",
    "model_nb.fit(X_train_norm, y_train)\n",
    "\n",
    "# predict target for the test data with trained model\n",
    "y_pred = model_nb.predict(X_test_norm)\n",
    "\n",
    "# Evaluation with confusion_matrix and accuracy\n",
    "cf_matrix = confusion_matrix(y_test, y_pred)\n",
    "print('Model accuracy score with default setting: {0:0.4f}'.format(accuracy_score(y_test, y_pred)))"
   ]
  },
  {
   "cell_type": "markdown",
   "id": "5939000b-b3ca-4f03-befe-c3108d5e9494",
   "metadata": {},
   "source": [
    "## 1.3. Conclusion <a class=\"anchor\" id=\"model_summary\"></a>\n",
    "\n",
    "#### Our Models - Summary \n",
    "\n",
    "In this section we will briefly compare and describe our models based on performance, complexity, dataset size and training/inference time.\n",
    "\n",
    "As described previously, we are balancing our data, and using accuracy to measure the performance of our models, since no outcome is more preferred.\n",
    "\n",
    "Our first model is **K-Nearest Neighbours**. By tuning the number of k nearest-neighbours in respect to the test accuracy, we found k equal to 11 to be the best fit. The final accuracy for this model is **81,16%**. KNN is a simple and easy model to implement. It’s an instance-based learning model, using the entire training set to predict output for unseen data. The main drawback of KNN is the complexity in calculating the nearest neighbours, especially if the data set grow large. Dimensionality reduction such as feature scaling were therefore implemented. Also missing value treatment since calculating distances to such points are not possible. \n",
    "\n",
    "The next model is **Decision tree**. By evaluating with both gini and entropy, while tuning the max level depth, the best accuracy was found to be **82,21%**. Gini and entropy is used for finding the optimal split. Computationally, entropy is more complex, but it gave slightly better results. Decision trees always overfits the training data, if we allow it to grow to its max depth. Max depth level as pre pruning technique was therefore implemented. Post pruning such as “reduced error pruning” may results in better results, but at the same time slower. \n",
    "\n",
    "**Support Vector Machines** produced similar results with linear-, poly- and radial basis kernel functions. By setting the regularization parameter equal to 10 we gained the best final accuracy with **83,62%**. In order to get nonlinear boundaries in SVM, we will have to apply a nonlinear transformation to the data. By using kernel functions, we do not need  to explicitly specify the nonlinear transformation. With well-known kernel functions, we were therefore able to easily train and test the data. \n",
    "\n",
    "The best **Logistic Regression** accuracy was **86,38%**. This was found by using GridSearchCv, which optimizes the hyperparameters by cross-validation over a parameter grid. \n",
    "\n",
    "**Naive Bayes** produced a **74,00%** accuracy. The lower accuracy is probably due to the naïve assumption that the attributes are conditionally independent given the target value. At the same time, the assumption makes the training fast. \n",
    "\n",
    "\n",
    "#### Conclusion\n",
    "\n",
    "All models show quite a good prediction result. \n",
    "Reasons for the good result:\n",
    "* The dataset had a great amount of rows\n",
    "* The dataset had a good amount of features\n",
    "* The features were correlated to the target\n",
    "\n",
    "The best results were reached with the SVM and Logistic Regression. Here the disadvantage is that the algorithms takes a long time to run (especially  SVM). Here KNN or Decision Tree were much faster.  \n",
    "\n",
    "In general, we could always have used the GridSearchCV to find the best parameters, but we chose to do the parameter search manually to see what happens. We could have also added the cross validation in every model, but since it takes much more time to run, we didn't put it in every model."
   ]
  },
  {
   "cell_type": "markdown",
   "id": "6d9de0e5",
   "metadata": {},
   "source": [
    "# 2. Regression problem <a class=\"anchor\" id=\"regression\"></a>\n",
    "\n",
    "As a second task, a regression problem in the same dataset will be addressed. The goal is to predict the age of a person with the help of the rest of the features.\n",
    "\n",
    "## 2.1. Preprocessing <a class=\"anchor\" id=\"preprocessing_reg\"></a>\n",
    "\n",
    "For this second prediction task, only the target variable needs to be changed. The correlation of the data needs to be checked again and a new scaling needs to be applied."
   ]
  },
  {
   "cell_type": "code",
   "execution_count": 38,
   "id": "5ef68d0a",
   "metadata": {},
   "outputs": [
    {
     "data": {
      "text/html": [
       "<div>\n",
       "<style scoped>\n",
       "    .dataframe tbody tr th:only-of-type {\n",
       "        vertical-align: middle;\n",
       "    }\n",
       "\n",
       "    .dataframe tbody tr th {\n",
       "        vertical-align: top;\n",
       "    }\n",
       "\n",
       "    .dataframe thead th {\n",
       "        text-align: right;\n",
       "    }\n",
       "</style>\n",
       "<table border=\"1\" class=\"dataframe\">\n",
       "  <thead>\n",
       "    <tr style=\"text-align: right;\">\n",
       "      <th></th>\n",
       "      <th>education-num</th>\n",
       "      <th>capital-gain</th>\n",
       "      <th>capital-loss</th>\n",
       "      <th>hours-per-week</th>\n",
       "      <th>workclass_Federal-gov</th>\n",
       "      <th>workclass_Local-gov</th>\n",
       "      <th>workclass_Private</th>\n",
       "      <th>workclass_Self-emp-inc</th>\n",
       "      <th>workclass_Self-emp-not-inc</th>\n",
       "      <th>workclass_State-gov</th>\n",
       "      <th>...</th>\n",
       "      <th>race_Asian-Pac-Islander</th>\n",
       "      <th>race_Black</th>\n",
       "      <th>race_Other</th>\n",
       "      <th>race_White</th>\n",
       "      <th>sex_Female</th>\n",
       "      <th>sex_Male</th>\n",
       "      <th>native-country_Other</th>\n",
       "      <th>native-country_United-States</th>\n",
       "      <th>class_&lt;=50K</th>\n",
       "      <th>age</th>\n",
       "    </tr>\n",
       "  </thead>\n",
       "  <tbody>\n",
       "    <tr>\n",
       "      <th>0</th>\n",
       "      <td>13</td>\n",
       "      <td>0</td>\n",
       "      <td>0</td>\n",
       "      <td>13</td>\n",
       "      <td>0</td>\n",
       "      <td>0</td>\n",
       "      <td>0</td>\n",
       "      <td>0</td>\n",
       "      <td>1</td>\n",
       "      <td>0</td>\n",
       "      <td>...</td>\n",
       "      <td>0</td>\n",
       "      <td>0</td>\n",
       "      <td>0</td>\n",
       "      <td>1</td>\n",
       "      <td>0</td>\n",
       "      <td>1</td>\n",
       "      <td>0</td>\n",
       "      <td>1</td>\n",
       "      <td>1</td>\n",
       "      <td>50</td>\n",
       "    </tr>\n",
       "    <tr>\n",
       "      <th>1</th>\n",
       "      <td>9</td>\n",
       "      <td>0</td>\n",
       "      <td>0</td>\n",
       "      <td>40</td>\n",
       "      <td>0</td>\n",
       "      <td>0</td>\n",
       "      <td>1</td>\n",
       "      <td>0</td>\n",
       "      <td>0</td>\n",
       "      <td>0</td>\n",
       "      <td>...</td>\n",
       "      <td>0</td>\n",
       "      <td>0</td>\n",
       "      <td>0</td>\n",
       "      <td>1</td>\n",
       "      <td>0</td>\n",
       "      <td>1</td>\n",
       "      <td>0</td>\n",
       "      <td>1</td>\n",
       "      <td>1</td>\n",
       "      <td>38</td>\n",
       "    </tr>\n",
       "    <tr>\n",
       "      <th>2</th>\n",
       "      <td>7</td>\n",
       "      <td>0</td>\n",
       "      <td>0</td>\n",
       "      <td>40</td>\n",
       "      <td>0</td>\n",
       "      <td>0</td>\n",
       "      <td>1</td>\n",
       "      <td>0</td>\n",
       "      <td>0</td>\n",
       "      <td>0</td>\n",
       "      <td>...</td>\n",
       "      <td>0</td>\n",
       "      <td>1</td>\n",
       "      <td>0</td>\n",
       "      <td>0</td>\n",
       "      <td>0</td>\n",
       "      <td>1</td>\n",
       "      <td>0</td>\n",
       "      <td>1</td>\n",
       "      <td>1</td>\n",
       "      <td>53</td>\n",
       "    </tr>\n",
       "    <tr>\n",
       "      <th>3</th>\n",
       "      <td>13</td>\n",
       "      <td>0</td>\n",
       "      <td>0</td>\n",
       "      <td>40</td>\n",
       "      <td>0</td>\n",
       "      <td>0</td>\n",
       "      <td>1</td>\n",
       "      <td>0</td>\n",
       "      <td>0</td>\n",
       "      <td>0</td>\n",
       "      <td>...</td>\n",
       "      <td>0</td>\n",
       "      <td>1</td>\n",
       "      <td>0</td>\n",
       "      <td>0</td>\n",
       "      <td>1</td>\n",
       "      <td>0</td>\n",
       "      <td>1</td>\n",
       "      <td>0</td>\n",
       "      <td>1</td>\n",
       "      <td>28</td>\n",
       "    </tr>\n",
       "    <tr>\n",
       "      <th>4</th>\n",
       "      <td>14</td>\n",
       "      <td>0</td>\n",
       "      <td>0</td>\n",
       "      <td>40</td>\n",
       "      <td>0</td>\n",
       "      <td>0</td>\n",
       "      <td>1</td>\n",
       "      <td>0</td>\n",
       "      <td>0</td>\n",
       "      <td>0</td>\n",
       "      <td>...</td>\n",
       "      <td>0</td>\n",
       "      <td>0</td>\n",
       "      <td>0</td>\n",
       "      <td>1</td>\n",
       "      <td>1</td>\n",
       "      <td>0</td>\n",
       "      <td>0</td>\n",
       "      <td>1</td>\n",
       "      <td>1</td>\n",
       "      <td>37</td>\n",
       "    </tr>\n",
       "    <tr>\n",
       "      <th>...</th>\n",
       "      <td>...</td>\n",
       "      <td>...</td>\n",
       "      <td>...</td>\n",
       "      <td>...</td>\n",
       "      <td>...</td>\n",
       "      <td>...</td>\n",
       "      <td>...</td>\n",
       "      <td>...</td>\n",
       "      <td>...</td>\n",
       "      <td>...</td>\n",
       "      <td>...</td>\n",
       "      <td>...</td>\n",
       "      <td>...</td>\n",
       "      <td>...</td>\n",
       "      <td>...</td>\n",
       "      <td>...</td>\n",
       "      <td>...</td>\n",
       "      <td>...</td>\n",
       "      <td>...</td>\n",
       "      <td>...</td>\n",
       "      <td>...</td>\n",
       "    </tr>\n",
       "    <tr>\n",
       "      <th>48834</th>\n",
       "      <td>13</td>\n",
       "      <td>0</td>\n",
       "      <td>0</td>\n",
       "      <td>40</td>\n",
       "      <td>0</td>\n",
       "      <td>0</td>\n",
       "      <td>1</td>\n",
       "      <td>0</td>\n",
       "      <td>0</td>\n",
       "      <td>0</td>\n",
       "      <td>...</td>\n",
       "      <td>0</td>\n",
       "      <td>0</td>\n",
       "      <td>0</td>\n",
       "      <td>1</td>\n",
       "      <td>0</td>\n",
       "      <td>1</td>\n",
       "      <td>0</td>\n",
       "      <td>1</td>\n",
       "      <td>1</td>\n",
       "      <td>33</td>\n",
       "    </tr>\n",
       "    <tr>\n",
       "      <th>48835</th>\n",
       "      <td>13</td>\n",
       "      <td>0</td>\n",
       "      <td>0</td>\n",
       "      <td>36</td>\n",
       "      <td>0</td>\n",
       "      <td>0</td>\n",
       "      <td>1</td>\n",
       "      <td>0</td>\n",
       "      <td>0</td>\n",
       "      <td>0</td>\n",
       "      <td>...</td>\n",
       "      <td>0</td>\n",
       "      <td>0</td>\n",
       "      <td>0</td>\n",
       "      <td>1</td>\n",
       "      <td>1</td>\n",
       "      <td>0</td>\n",
       "      <td>0</td>\n",
       "      <td>1</td>\n",
       "      <td>1</td>\n",
       "      <td>39</td>\n",
       "    </tr>\n",
       "    <tr>\n",
       "      <th>48837</th>\n",
       "      <td>13</td>\n",
       "      <td>0</td>\n",
       "      <td>0</td>\n",
       "      <td>50</td>\n",
       "      <td>0</td>\n",
       "      <td>0</td>\n",
       "      <td>1</td>\n",
       "      <td>0</td>\n",
       "      <td>0</td>\n",
       "      <td>0</td>\n",
       "      <td>...</td>\n",
       "      <td>0</td>\n",
       "      <td>0</td>\n",
       "      <td>0</td>\n",
       "      <td>1</td>\n",
       "      <td>0</td>\n",
       "      <td>1</td>\n",
       "      <td>0</td>\n",
       "      <td>1</td>\n",
       "      <td>1</td>\n",
       "      <td>38</td>\n",
       "    </tr>\n",
       "    <tr>\n",
       "      <th>48838</th>\n",
       "      <td>13</td>\n",
       "      <td>5455</td>\n",
       "      <td>0</td>\n",
       "      <td>40</td>\n",
       "      <td>0</td>\n",
       "      <td>0</td>\n",
       "      <td>1</td>\n",
       "      <td>0</td>\n",
       "      <td>0</td>\n",
       "      <td>0</td>\n",
       "      <td>...</td>\n",
       "      <td>1</td>\n",
       "      <td>0</td>\n",
       "      <td>0</td>\n",
       "      <td>0</td>\n",
       "      <td>0</td>\n",
       "      <td>1</td>\n",
       "      <td>0</td>\n",
       "      <td>1</td>\n",
       "      <td>1</td>\n",
       "      <td>44</td>\n",
       "    </tr>\n",
       "    <tr>\n",
       "      <th>48839</th>\n",
       "      <td>13</td>\n",
       "      <td>0</td>\n",
       "      <td>0</td>\n",
       "      <td>60</td>\n",
       "      <td>0</td>\n",
       "      <td>0</td>\n",
       "      <td>0</td>\n",
       "      <td>1</td>\n",
       "      <td>0</td>\n",
       "      <td>0</td>\n",
       "      <td>...</td>\n",
       "      <td>0</td>\n",
       "      <td>0</td>\n",
       "      <td>0</td>\n",
       "      <td>1</td>\n",
       "      <td>0</td>\n",
       "      <td>1</td>\n",
       "      <td>0</td>\n",
       "      <td>1</td>\n",
       "      <td>0</td>\n",
       "      <td>35</td>\n",
       "    </tr>\n",
       "  </tbody>\n",
       "</table>\n",
       "<p>45220 rows × 49 columns</p>\n",
       "</div>"
      ],
      "text/plain": [
       "       education-num  capital-gain  capital-loss  hours-per-week  \\\n",
       "0                 13             0             0              13   \n",
       "1                  9             0             0              40   \n",
       "2                  7             0             0              40   \n",
       "3                 13             0             0              40   \n",
       "4                 14             0             0              40   \n",
       "...              ...           ...           ...             ...   \n",
       "48834             13             0             0              40   \n",
       "48835             13             0             0              36   \n",
       "48837             13             0             0              50   \n",
       "48838             13          5455             0              40   \n",
       "48839             13             0             0              60   \n",
       "\n",
       "       workclass_Federal-gov  workclass_Local-gov  workclass_Private  \\\n",
       "0                          0                    0                  0   \n",
       "1                          0                    0                  1   \n",
       "2                          0                    0                  1   \n",
       "3                          0                    0                  1   \n",
       "4                          0                    0                  1   \n",
       "...                      ...                  ...                ...   \n",
       "48834                      0                    0                  1   \n",
       "48835                      0                    0                  1   \n",
       "48837                      0                    0                  1   \n",
       "48838                      0                    0                  1   \n",
       "48839                      0                    0                  0   \n",
       "\n",
       "       workclass_Self-emp-inc  workclass_Self-emp-not-inc  \\\n",
       "0                           0                           1   \n",
       "1                           0                           0   \n",
       "2                           0                           0   \n",
       "3                           0                           0   \n",
       "4                           0                           0   \n",
       "...                       ...                         ...   \n",
       "48834                       0                           0   \n",
       "48835                       0                           0   \n",
       "48837                       0                           0   \n",
       "48838                       0                           0   \n",
       "48839                       1                           0   \n",
       "\n",
       "       workclass_State-gov  ...  race_Asian-Pac-Islander  race_Black  \\\n",
       "0                        0  ...                        0           0   \n",
       "1                        0  ...                        0           0   \n",
       "2                        0  ...                        0           1   \n",
       "3                        0  ...                        0           1   \n",
       "4                        0  ...                        0           0   \n",
       "...                    ...  ...                      ...         ...   \n",
       "48834                    0  ...                        0           0   \n",
       "48835                    0  ...                        0           0   \n",
       "48837                    0  ...                        0           0   \n",
       "48838                    0  ...                        1           0   \n",
       "48839                    0  ...                        0           0   \n",
       "\n",
       "       race_Other  race_White  sex_Female  sex_Male  native-country_Other  \\\n",
       "0               0           1           0         1                     0   \n",
       "1               0           1           0         1                     0   \n",
       "2               0           0           0         1                     0   \n",
       "3               0           0           1         0                     1   \n",
       "4               0           1           1         0                     0   \n",
       "...           ...         ...         ...       ...                   ...   \n",
       "48834           0           1           0         1                     0   \n",
       "48835           0           1           1         0                     0   \n",
       "48837           0           1           0         1                     0   \n",
       "48838           0           0           0         1                     0   \n",
       "48839           0           1           0         1                     0   \n",
       "\n",
       "       native-country_United-States  class_<=50K  age  \n",
       "0                                 1            1   50  \n",
       "1                                 1            1   38  \n",
       "2                                 1            1   53  \n",
       "3                                 0            1   28  \n",
       "4                                 1            1   37  \n",
       "...                             ...          ...  ...  \n",
       "48834                             1            1   33  \n",
       "48835                             1            1   39  \n",
       "48837                             1            1   38  \n",
       "48838                             1            1   44  \n",
       "48839                             1            0   35  \n",
       "\n",
       "[45220 rows x 49 columns]"
      ]
     },
     "execution_count": 38,
     "metadata": {},
     "output_type": "execute_result"
    }
   ],
   "source": [
    "data_reg_col = data_reg.columns.tolist()\n",
    "data_reg_col = data_reg_col[1:] + [data_reg_col[0]]\n",
    "data_reg = data_reg[data_reg_col]\n",
    "data_reg_num_col = data_reg.select_dtypes(include=numerics).columns.tolist()\n",
    "data_reg"
   ]
  },
  {
   "cell_type": "markdown",
   "id": "76df2aaf",
   "metadata": {},
   "source": [
    "### 2.1.1. Feature selection <a class=\"anchor\" id=\"feature_selection_reg\"></a>\n",
    "For the feature selection, we have a look at a correlation matrix of the numerical attributes with a heatmap:"
   ]
  },
  {
   "cell_type": "code",
   "execution_count": 39,
   "id": "24c06c90",
   "metadata": {},
   "outputs": [
    {
     "data": {
      "image/png": "[encoded data removed]",
      "text/plain": [
       "<Figure size 720x720 with 2 Axes>"
      ]
     },
     "metadata": {
      "needs_background": "light"
     },
     "output_type": "display_data"
    }
   ],
   "source": [
    "import seaborn as sns\n",
    "\n",
    "# get correlation of features in the dataset\n",
    "corrmat = data_reg[['class_<=50K'] + data_reg_num_col].corr()\n",
    "top_corr_features = corrmat.index\n",
    "plt.figure(figsize=(10, 10))\n",
    "\n",
    "# plot heat map\n",
    "g=sns.heatmap(data_reg[top_corr_features].corr(), annot = True, cmap = \"RdYlGn\")"
   ]
  },
  {
   "cell_type": "markdown",
   "id": "aedad46a",
   "metadata": {},
   "source": [
    "The correlation between the target variable \"age\" and the rest of the variables is not very high. Only the correlation to the former target \"class_<=50K\" is a bit higher. \n",
    "\n",
    "All attributes will be kept, but not as good prediction results expected as for the classification prediction."
   ]
  },
  {
   "cell_type": "markdown",
   "id": "a6774ab8",
   "metadata": {},
   "source": [
    "### 2.1.2. Checking for Linearity <a class=\"anchor\" id=\"linearity_check\"></a>\n",
    "To check if a linear regression model is fitting a scatter plot for every numerical feature with the target variable is evaluated:"
   ]
  },
  {
   "cell_type": "code",
   "execution_count": 40,
   "id": "77f64c05",
   "metadata": {},
   "outputs": [
    {
     "data": {
      "image/png": "[encoded data removed]",
      "text/plain": [
       "<Figure size 432x288 with 1 Axes>"
      ]
     },
     "metadata": {
      "needs_background": "light"
     },
     "output_type": "display_data"
    }
   ],
   "source": [
    "plt.scatter(data_reg['education-num'], data_reg['age'])\n",
    "plt.title('Education Number vs Age')\n",
    "plt.xlabel('Education Number')\n",
    "plt.ylabel('Age')\n",
    "plt.grid(True)"
   ]
  },
  {
   "cell_type": "code",
   "execution_count": 41,
   "id": "5aa5a810",
   "metadata": {},
   "outputs": [
    {
     "data": {
      "image/png": "[encoded data removed]",
      "text/plain": [
       "<Figure size 432x288 with 1 Axes>"
      ]
     },
     "metadata": {
      "needs_background": "light"
     },
     "output_type": "display_data"
    }
   ],
   "source": [
    "plt.scatter(data_reg['capital-gain'], data_reg['age'])\n",
    "plt.title('Capital Gain vs Age')\n",
    "plt.xlabel('Capital Gain')\n",
    "plt.ylabel('Age')\n",
    "plt.grid(True)"
   ]
  },
  {
   "cell_type": "code",
   "execution_count": 42,
   "id": "a9dc005f",
   "metadata": {},
   "outputs": [
    {
     "data": {
      "image/png": "[encoded data removed]",
      "text/plain": [
       "<Figure size 432x288 with 1 Axes>"
      ]
     },
     "metadata": {
      "needs_background": "light"
     },
     "output_type": "display_data"
    }
   ],
   "source": [
    "plt.scatter(data_reg['capital-loss'], data_reg['age'])\n",
    "plt.title('Capital Loss vs Age')\n",
    "plt.xlabel('Capital Loss')\n",
    "plt.ylabel('Age')\n",
    "plt.grid(True)"
   ]
  },
  {
   "cell_type": "code",
   "execution_count": 43,
   "id": "46daec10",
   "metadata": {},
   "outputs": [
    {
     "data": {
      "image/png": "[encoded data removed]",
      "text/plain": [
       "<Figure size 432x288 with 1 Axes>"
      ]
     },
     "metadata": {
      "needs_background": "light"
     },
     "output_type": "display_data"
    }
   ],
   "source": [
    "plt.scatter(data_reg['hours-per-week'], data_reg['age'])\n",
    "plt.title('Hours per Week vs Age')\n",
    "plt.xlabel('Hours per Week')\n",
    "plt.ylabel('Age')\n",
    "plt.grid(True)"
   ]
  },
  {
   "cell_type": "markdown",
   "id": "f0a1ef09",
   "metadata": {},
   "source": [
    "There seems to be no or little linearity between the variables and the target variable, so for the prediction there is no good outcome expected."
   ]
  },
  {
   "cell_type": "markdown",
   "id": "9e508872",
   "metadata": {},
   "source": [
    "### 2.1.3. Splitting in training and test data <a class=\"anchor\" id=\"splitting_2\"></a>\n",
    "The data is split again  in a training and a test dataset."
   ]
  },
  {
   "cell_type": "code",
   "execution_count": 44,
   "id": "feaef98e",
   "metadata": {},
   "outputs": [],
   "source": [
    "from sklearn.model_selection import train_test_split\n",
    "\n",
    "# input variables\n",
    "X = data_reg.iloc[:, :-1]\n",
    "# target variable\n",
    "y = data_reg.iloc[:, -1]\n",
    "\n",
    "# split into test and training data\n",
    "X_train, X_test, y_train, y_test = train_test_split(X, y, test_size=0.2, random_state=4)"
   ]
  },
  {
   "cell_type": "markdown",
   "id": "79b917b0",
   "metadata": {},
   "source": [
    "### 2.1.4. Feature scaling <a class=\"anchor\" id=\"Feature_scaling_2\"></a>\n",
    "To make the features comparable, they will be scaled again between 0 and 1."
   ]
  },
  {
   "cell_type": "markdown",
   "id": "b2708756",
   "metadata": {},
   "source": [
    "#### Normalization <a class=\"anchor\" id=\"Normalization\"></a>\n",
    "Since the One Hot Encoded categorical data is already either of value 0 or 1, the normalization won't touch it."
   ]
  },
  {
   "cell_type": "code",
   "execution_count": 45,
   "id": "19e64da0",
   "metadata": {},
   "outputs": [],
   "source": [
    "# data normalization with sklearn\n",
    "from sklearn.preprocessing import MinMaxScaler\n",
    "\n",
    "# fit scaler on training data\n",
    "norm = MinMaxScaler().fit(X_train)\n",
    "\n",
    "# transform training data using the training data scaler\n",
    "X_train_norm = X_train.copy()\n",
    "X_train_norm[X_train_norm.columns] = norm.transform(X_train[X_train.columns])\n",
    "\n",
    "# transform testing data using the training data scaler\n",
    "X_test_norm = X_test.copy()\n",
    "X_test_norm[X_test_norm.columns] = norm.transform(X_test[X_test.columns])"
   ]
  },
  {
   "cell_type": "markdown",
   "id": "ba6cd160",
   "metadata": {},
   "source": [
    "## 2.2. Prediction Algorithms <a class=\"anchor\" id=\"Prediction_Algorithms_2\"></a>"
   ]
  },
  {
   "cell_type": "markdown",
   "id": "e6c8863c",
   "metadata": {},
   "source": [
    "### 2.2.1. Multiple Linear Regression <a class=\"anchor\" id=\"mul_lin_reg\"></a>\n",
    "\n",
    "Multiple Linear Regression is a statistical technique that uses several independent variables to predict the outcome of the target variable. The goal of multiple linear regression is to model the linear relationship between the independent variables and dependent variables. In essence, multiple regression is the extension of ordinary least-squares (OLS) regression because it involves more than one independent variable. \n",
    "\n",
    "We use the sklearn implementation of [ Multiple Linear Regression](https://scikit-learn.org/stable/modules/generated/sklearn.linear_model.LinearRegression.html?highlight=linearregression#sklearn.linear_model.LinearRegression).\n",
    "\n",
    "The multiple linear regression calculates the coefficients for every attribute in a linear model:"
   ]
  },
  {
   "cell_type": "code",
   "execution_count": 46,
   "id": "52b2e6b0",
   "metadata": {},
   "outputs": [
    {
     "name": "stdout",
     "output_type": "stream",
     "text": [
      "R2 score: 0.39722212174523297\n"
     ]
    }
   ],
   "source": [
    "from sklearn.linear_model import LinearRegression\n",
    "\n",
    "model_reg_lin = LinearRegression()\n",
    "\n",
    "# apply model to training data\n",
    "model_reg_lin.fit(X_train_norm, y_train)\n",
    "\n",
    "# predict target for the test data with trained model\n",
    "y_pred = model_reg_lin.predict(X_test_norm)\n",
    "\n",
    "# # regression coefficients\n",
    "# print('Coefficients: ', model_reg_lin.coef_)\n",
    " \n",
    "# variance score: 1 means perfect prediction\n",
    "print('R2 score: {}'.format(model_reg_lin.score(X_test_norm, y_test)))"
   ]
  },
  {
   "cell_type": "markdown",
   "id": "d3e0cf46",
   "metadata": {},
   "source": [
    "The model is evaluated by the metric R-squared. R-squared represents the proportion of the variance for the target variable that's explained by the independent variables. So here, around 40% of the observed variation can be explained by the model's inputs. A result of R-squared = 1 would be best, so this model is not working that well."
   ]
  },
  {
   "cell_type": "markdown",
   "id": "90d82713",
   "metadata": {},
   "source": [
    "### 2.2.2. Ridge Regression <a class=\"anchor\" id=\"ridge_reg\"></a>\n",
    "\n",
    "As an extension  of linear regression, Ridge regression is available that includes an L2 penalty to the linear regression model. Here, the parameter for the penalty must be configured.  \n",
    "\n",
    "We use the sklearn implementation of [Ridge Regression](https://scikit-learn.org/stable/modules/generated/sklearn.linear_model.Ridge.html?highlight=ridge#sklearn.linear_model.Ridge)."
   ]
  },
  {
   "cell_type": "code",
   "execution_count": 47,
   "id": "b40a0dd0",
   "metadata": {},
   "outputs": [
    {
     "name": "stdout",
     "output_type": "stream",
     "text": [
      "R2 score: 0.39787396492446825\n"
     ]
    }
   ],
   "source": [
    "from sklearn.linear_model import Ridge\n",
    "\n",
    "model_reg_ridge = Ridge()\n",
    "\n",
    "# apply model to training data\n",
    "model_reg_ridge.fit(X_train_norm, y_train)\n",
    "\n",
    "# predict target for the test data with trained model\n",
    "y_pred = model_reg_ridge.predict(X_test_norm)\n",
    "\n",
    "# # regression coefficients\n",
    "# print('Coefficients: ', model_reg_ridge.coef_)\n",
    " \n",
    "# variance score: 1 means perfect prediction\n",
    "print('R2 score: {}'.format(model_reg_ridge.score(X_test_norm, y_test)))"
   ]
  },
  {
   "cell_type": "markdown",
   "id": "d19942ac",
   "metadata": {},
   "source": [
    "The Ridge Regression provides a slightly better result. To find the best alpha to improve the model, Ridge Regression including cross validation is used:"
   ]
  },
  {
   "cell_type": "code",
   "execution_count": 48,
   "id": "ccb7c5a3",
   "metadata": {},
   "outputs": [
    {
     "name": "stdout",
     "output_type": "stream",
     "text": [
      "R2 score: 0.39787396492385063\n",
      "Best alpha: 1.0\n"
     ]
    }
   ],
   "source": [
    "from sklearn.linear_model import RidgeCV\n",
    "\n",
    "model_reg_ridge_cv = RidgeCV(alphas = [0.0001, 0.001,0.01, 0.1, 1, 10])\n",
    "\n",
    "# apply model to training data\n",
    "model_reg_ridge_cv.fit(X_train_norm, y_train)\n",
    "\n",
    "# predict target for the test data with trained model\n",
    "y_pred = model_reg_ridge_cv.predict(X_test_norm)\n",
    "\n",
    "# # regression coefficients\n",
    "# print('Coefficients: ', model_reg_ridge.coef_)\n",
    " \n",
    "# variance score: 1 means perfect prediction\n",
    "print('R2 score: {}'.format(model_reg_ridge_cv.score(X_test_norm, y_test)))\n",
    "print('Best alpha: {}'.format(model_reg_ridge_cv.alpha_))"
   ]
  },
  {
   "cell_type": "markdown",
   "id": "3f5b829f",
   "metadata": {},
   "source": [
    "Another alpha value doesn't improve the model."
   ]
  },
  {
   "cell_type": "markdown",
   "id": "2f451a88",
   "metadata": {},
   "source": [
    "### 2.2.3. K-Nearest Neighbours <a class=\"anchor\" id=\"knn_reg\"></a>\n",
    "The K Nearest Neighbor algorithm can also be used for regression.\n",
    "\n",
    "We use the sklearn implementation of [KNN](https://scikit-learn.org/stable/modules/generated/sklearn.neighbors.KNeighborsRegressor.html?highlight=kneighborsregressor#sklearn.neighbors.KNeighborsRegressor)."
   ]
  },
  {
   "cell_type": "code",
   "execution_count": 49,
   "id": "80f5a740",
   "metadata": {},
   "outputs": [
    {
     "name": "stdout",
     "output_type": "stream",
     "text": [
      "R-squared score: 0.3495874640505706\n"
     ]
    }
   ],
   "source": [
    "from sklearn.neighbors import KNeighborsRegressor\n",
    "\n",
    "model_reg_knn = KNeighborsRegressor()\n",
    "\n",
    "# apply model to training data\n",
    "model_reg_knn.fit(X_train_norm, y_train)\n",
    "\n",
    "# predict target for the test data with trained model\n",
    "y_pred = model_reg_knn.predict(X_test_norm)\n",
    " \n",
    "# variance score: 1 means perfect prediction\n",
    "print('R-squared score: {}'.format(model_reg_knn.score(X_test_norm, y_test)))"
   ]
  },
  {
   "cell_type": "markdown",
   "id": "409cb59e",
   "metadata": {},
   "source": [
    "The score is worse than the score from the linear regression. With the hyperparameter K, the number of neighbors, the performance could be improved:"
   ]
  },
  {
   "cell_type": "code",
   "execution_count": 50,
   "id": "93cdac53",
   "metadata": {},
   "outputs": [],
   "source": [
    "scores_knn_reg = []\n",
    "k_range = list(range(1, 26))\n",
    "\n",
    "for i in k_range:\n",
    "    model_reg_knn = KNeighborsRegressor(n_neighbors=i)\n",
    "    model_reg_knn.fit(X_train_norm, y_train)\n",
    "    scores_knn_reg.append(model_reg_knn.score(X_test_norm, y_test))"
   ]
  },
  {
   "cell_type": "code",
   "execution_count": 51,
   "id": "5eeb6652",
   "metadata": {},
   "outputs": [
    {
     "name": "stdout",
     "output_type": "stream",
     "text": [
      "Best K value: 18\n"
     ]
    },
    {
     "data": {
      "image/png": "[encoded data removed]",
      "text/plain": [
       "<Figure size 720x432 with 1 Axes>"
      ]
     },
     "metadata": {
      "needs_background": "light"
     },
     "output_type": "display_data"
    }
   ],
   "source": [
    "# plot the relationship between K and R_squared\n",
    "plt.figure(figsize=(10,6))\n",
    "plt.plot(k_range, scores_knn_reg, color='blue', linestyle='dashed', marker='o',\n",
    " markerfacecolor='red', markersize=10)\n",
    "plt.title('R-squared vs. K Value')\n",
    "plt.xlabel('Value of K for KNN')\n",
    "plt.ylabel('R-squared')\n",
    "plt.xticks(k_range)\n",
    "\n",
    "best_k_value = scores_knn_reg.index(max(scores_knn_reg)) + 1\n",
    "print(f'Best K value: {best_k_value}')"
   ]
  },
  {
   "cell_type": "code",
   "execution_count": 52,
   "id": "e2549562",
   "metadata": {},
   "outputs": [
    {
     "name": "stdout",
     "output_type": "stream",
     "text": [
      "R-squared score: 0.4113350722667184\n"
     ]
    }
   ],
   "source": [
    "model_reg_knn = KNeighborsRegressor(n_neighbors = best_k_value)\n",
    "\n",
    "# apply model to training data\n",
    "model_reg_knn.fit(X_train_norm, y_train)\n",
    "\n",
    "# predict target for the test data with trained model\n",
    "y_pred = model_reg_knn.predict(X_test_norm)\n",
    " \n",
    "# variance score: 1 means perfect prediction\n",
    "print('R-squared score: {}'.format(model_reg_knn.score(X_test_norm, y_test)))"
   ]
  },
  {
   "cell_type": "markdown",
   "id": "7c4a4bf4",
   "metadata": {},
   "source": [
    "After a certain value of K the performance isn't increasing any further. To avoid overfitting the lowest best one is chosen."
   ]
  },
  {
   "cell_type": "markdown",
   "id": "3a34e174",
   "metadata": {},
   "source": [
    "### 2.2.4. Decision Tree <a class=\"anchor\" id=\"Decision_Tree_2\"></a>\n",
    "Also, a decision tree regression is possible.\n",
    "\n",
    "We use the sklearn implementation of [Decision Tree](https://scikit-learn.org/stable/modules/generated/sklearn.tree.DecisionTreeRegressor.html?highlight=decisiontreeregressor#sklearn.tree.DecisionTreeRegressor)."
   ]
  },
  {
   "cell_type": "code",
   "execution_count": 53,
   "id": "1c222915",
   "metadata": {},
   "outputs": [
    {
     "name": "stdout",
     "output_type": "stream",
     "text": [
      "R-squared score: 0.1602186708324047\n"
     ]
    }
   ],
   "source": [
    "from sklearn.tree import DecisionTreeRegressor\n",
    "\n",
    "model_reg_dt = DecisionTreeRegressor(random_state = 0)\n",
    "\n",
    "# apply model to training data\n",
    "model_reg_dt.fit(X_train, y_train)\n",
    "\n",
    "# predict target for the test data with trained model\n",
    "y_pred = model_reg_dt.predict(X_test)\n",
    " \n",
    "# variance score: 1 means perfect prediction\n",
    "print('R-squared score: {}'.format(model_reg_dt.score(X_test, y_test)))"
   ]
  },
  {
   "cell_type": "markdown",
   "id": "47b51d04",
   "metadata": {},
   "source": [
    "The decision tree gets quite bad results compared to linear regression and knn.\n",
    "The best value for max_depth needs to be found:"
   ]
  },
  {
   "cell_type": "code",
   "execution_count": 54,
   "id": "ca799a06",
   "metadata": {},
   "outputs": [
    {
     "name": "stdout",
     "output_type": "stream",
     "text": [
      "Maximum depth of the tree: 47\n"
     ]
    }
   ],
   "source": [
    "# get the maximum depth of the tree\n",
    "max_depth = model_reg_dt.tree_.max_depth\n",
    "print(f'Maximum depth of the tree: {max_depth}')\n",
    "\n",
    "scores_tree_reg = []\n",
    "d_range = list(range(1, max_depth + 1))\n",
    "\n",
    "for i in d_range:\n",
    "    model_reg_dt = DecisionTreeRegressor(random_state = 0, max_depth = i)\n",
    "    model_reg_dt.fit(X_train, y_train)\n",
    "    pred_i = model_reg_dt.predict(X_test)\n",
    "    scores_tree_reg.append(model_reg_dt.score(X_test, y_test))"
   ]
  },
  {
   "cell_type": "code",
   "execution_count": 55,
   "id": "8406974e",
   "metadata": {},
   "outputs": [
    {
     "name": "stdout",
     "output_type": "stream",
     "text": [
      "Best max_depth: 7\n"
     ]
    },
    {
     "data": {
      "image/png": "[encoded data removed]",
      "text/plain": [
       "<Figure size 1080x576 with 1 Axes>"
      ]
     },
     "metadata": {
      "needs_background": "light"
     },
     "output_type": "display_data"
    }
   ],
   "source": [
    "# plot the relationship between K and R_squared\n",
    "plt.figure(figsize=(15,8))\n",
    "plt.plot(d_range, scores_tree_reg, color='blue', linestyle='dashed', marker='o',\n",
    " markerfacecolor='red', markersize=10)\n",
    "plt.title('R-squared vs. max_depth')\n",
    "plt.xlabel('Value of max_depth for Decision Tree')\n",
    "plt.ylabel('R-squared')\n",
    "plt.xticks(d_range)\n",
    "\n",
    "best_max_depth = scores_tree_reg.index(max(scores_tree_reg)) + 1\n",
    "print(f'Best max_depth: {best_max_depth}')"
   ]
  },
  {
   "cell_type": "code",
   "execution_count": 56,
   "id": "f9760cc0",
   "metadata": {},
   "outputs": [
    {
     "name": "stdout",
     "output_type": "stream",
     "text": [
      "R-squared score: 0.4136893986644541\n"
     ]
    }
   ],
   "source": [
    "model_reg_dt = DecisionTreeRegressor(random_state = 0, max_depth = best_max_depth)\n",
    "\n",
    "# apply model to training data\n",
    "model_reg_dt.fit(X_train, y_train)\n",
    "\n",
    "# predict target for the test data with trained model\n",
    "y_pred = model_reg_dt.predict(X_test)\n",
    " \n",
    "# variance score: 1 means perfect prediction\n",
    "print('R-squared score: {}'.format(model_reg_dt.score(X_test, y_test)))"
   ]
  },
  {
   "cell_type": "markdown",
   "id": "d79c3460",
   "metadata": {},
   "source": [
    "With the best parameter for the maximum depth found, the result is much better. "
   ]
  },
  {
   "cell_type": "markdown",
   "id": "9e4a9e76",
   "metadata": {},
   "source": [
    "## 2.3. Conclusion <a class=\"anchor\" id=\"model_summary\"></a>\n",
    "\n",
    "Also, here we managed to increase the performance of the algorithms by tuning the parameters.  \n",
    "\n",
    "Since the correlation between the features and the age wasn't that high, the results weren't as good as with the earning classification prediction.\n",
    "\n",
    "Still, we could get a good impression of the different classification and regression algorithms and how to tune the parameters."
   ]
  },
  {
   "cell_type": "code",
   "execution_count": null,
   "id": "1a980f59",
   "metadata": {},
   "outputs": [],
   "source": []
  }
 ],
 "metadata": {
  "kernelspec": {
   "display_name": "Python 3 (ipykernel)",
   "language": "python",
   "name": "python3"
  },
  "language_info": {
   "codemirror_mode": {
    "name": "ipython",
    "version": 3
   },
   "file_extension": ".py",
   "mimetype": "text/x-python",
   "name": "python",
   "nbconvert_exporter": "python",
   "pygments_lexer": "ipython3",
   "version": "3.9.7"
  }
 },
 "nbformat": 4,
 "nbformat_minor": 5
}
